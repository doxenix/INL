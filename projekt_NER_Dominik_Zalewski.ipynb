{
  "nbformat": 4,
  "nbformat_minor": 0,
  "metadata": {
    "colab": {
      "provenance": [],
      "toc_visible": true,
      "include_colab_link": true
    },
    "kernelspec": {
      "name": "python3",
      "display_name": "Python 3"
    },
    "language_info": {
      "name": "python"
    },
    "gpuClass": "standard",
    "accelerator": "GPU"
  },
  "cells": [
    {
      "cell_type": "markdown",
      "metadata": {
        "id": "view-in-github",
        "colab_type": "text"
      },
      "source": [
        "<a href=\"https://colab.research.google.com/github/doxenix/INL/blob/main/projekt_NER_Dominik_Zalewski.ipynb\" target=\"_parent\"><img src=\"https://colab.research.google.com/assets/colab-badge.svg\" alt=\"Open In Colab\"/></a>"
      ]
    },
    {
      "cell_type": "markdown",
      "source": [
        "# Projekt z NLP: rozpoznawanie nazw własnych w języku polskim (NER)\n",
        "autor: Dominik Zalewski\n",
        "\n",
        "indeks: s24216\n",
        "\n",
        "W ninijeszym projekcie zaprezentuje moje rozwiązanie w temacie rozpoznawania nazw własnych w języku polskim. Nasze dane treningowe to NKJP_org. Moje rozwiązanie opieram o wytrenowanie dwóch modeli opartych o sieci neuronowe. Zrobimy to od \"zera\", nie używając wytrenowanych już wcześniej modeli (tzw. \"transfer learing\")\n",
        "\n",
        "Środowiskiem w którym należy uruchomić notatnik jest Google Colab."
      ],
      "metadata": {
        "id": "GzH0KZx-wDQk"
      }
    },
    {
      "cell_type": "markdown",
      "source": [
        "## Przygotowanie środowiska w Colab"
      ],
      "metadata": {
        "id": "XhAHuzUjE10u"
      }
    },
    {
      "cell_type": "markdown",
      "source": [
        "Zacznijmy od uruchomienia poniższej komórki. Potrzebujemy dwóch rzeczy:\n",
        "\n",
        "* Zainstalować bibliotekę `stop_words`\n",
        "* Doinstalować model `pl_core_news_sm` do pakietu spacy. Będzie nam to potrzebne w procesie lematyzacji\n",
        "* a także moduł `keras-tuner` skorzystamy z niego przy hypertuningu parametrów\n",
        "\n",
        "I to właśnie zrobimy uruchamiając komórke poniżej:\n"
      ],
      "metadata": {
        "id": "Aetjk_er8d8G"
      }
    },
    {
      "cell_type": "code",
      "source": [
        "!pip install stop_words\n",
        "!python -m spacy download pl_core_news_sm"
      ],
      "metadata": {
        "id": "u7WghVnAKeTt"
      },
      "execution_count": null,
      "outputs": []
    },
    {
      "cell_type": "markdown",
      "source": [
        "Kolejnym krokiem jest oczywiście import bibliotek:"
      ],
      "metadata": {
        "id": "N5aoAz2_-JFA"
      }
    },
    {
      "cell_type": "code",
      "execution_count": 2,
      "metadata": {
        "colab": {
          "base_uri": "https://localhost:8080/"
        },
        "id": "c7AnNPN4lAtv",
        "outputId": "cbba3f9d-8e63-423a-cad3-37343f1b685c"
      },
      "outputs": [
        {
          "output_type": "execute_result",
          "data": {
            "text/plain": [
              "131072"
            ]
          },
          "metadata": {},
          "execution_count": 2
        }
      ],
      "source": [
        "import pandas as pd\n",
        "import numpy as np\n",
        "import csv\n",
        "import warnings\n",
        "\n",
        "from stop_words import get_stop_words\n",
        "import spacy\n",
        "\n",
        "import tensorflow as tf\n",
        "from tensorflow.keras.preprocessing.text import Tokenizer\n",
        "from tensorflow.keras.preprocessing.sequence import pad_sequences\n",
        "from tensorflow.keras import Model, Input\n",
        "from tensorflow.keras.layers import (\n",
        "    LSTM,\n",
        "    Embedding,\n",
        "    Dense,\n",
        "    TimeDistributed,\n",
        "    SpatialDropout1D,\n",
        "    Bidirectional\n",
        ")\n",
        "from tensorflow.keras.preprocessing.sequence import pad_sequences\n",
        "from tensorflow.keras.utils import to_categorical\n",
        "\n",
        "from sklearn.metrics import classification_report\n",
        "from sklearn.model_selection import train_test_split\n",
        "\n",
        "from matplotlib import pyplot as plt\n",
        "\n",
        "import ast\n",
        "\n",
        "warnings.filterwarnings(\"ignore\")\n",
        "\n",
        "# increase limit for reading csv data\n",
        "csv.field_size_limit(100000000)"
      ]
    },
    {
      "cell_type": "markdown",
      "source": [
        "## Przygotowanie danych"
      ],
      "metadata": {
        "id": "3G1Ctdi1E9K2"
      }
    },
    {
      "cell_type": "markdown",
      "source": [
        "Zacznijmy od pobrania danych NKJP_org.csv\n",
        "\n",
        "Po pobraniu, wczytamy dane za pomocą funkcji `read_csv_data()` z odpowiednimi parametrami. Wyjątkowo dużo parametrów ze względu na specifikę pliku csv, to nam umożliwi poprawne wczytanie danych.\n",
        "\n"
      ],
      "metadata": {
        "id": "JpmWn4bu-RyQ"
      }
    },
    {
      "cell_type": "code",
      "source": [
        "!wget https://raw.githubusercontent.com/doxenix/INL/main/NKJP_org.csv"
      ],
      "metadata": {
        "colab": {
          "base_uri": "https://localhost:8080/"
        },
        "id": "B77ruiSRv-x5",
        "outputId": "c6effb40-7b50-418e-e169-5d16c3295f60"
      },
      "execution_count": 3,
      "outputs": [
        {
          "output_type": "stream",
          "name": "stdout",
          "text": [
            "--2022-12-24 12:45:20--  https://raw.githubusercontent.com/doxenix/INL/main/NKJP_org.csv\n",
            "Resolving raw.githubusercontent.com (raw.githubusercontent.com)... 185.199.108.133, 185.199.109.133, 185.199.110.133, ...\n",
            "Connecting to raw.githubusercontent.com (raw.githubusercontent.com)|185.199.108.133|:443... connected.\n",
            "HTTP request sent, awaiting response... 200 OK\n",
            "Length: 24288720 (23M) [text/plain]\n",
            "Saving to: ‘NKJP_org.csv’\n",
            "\n",
            "NKJP_org.csv        100%[===================>]  23.16M  --.-KB/s    in 0.1s    \n",
            "\n",
            "2022-12-24 12:45:21 (211 MB/s) - ‘NKJP_org.csv’ saved [24288720/24288720]\n",
            "\n"
          ]
        }
      ]
    },
    {
      "cell_type": "code",
      "source": [
        "def read_csv_data(path, col_names):\n",
        "    raw_data = pd.read_csv(\n",
        "        path,\n",
        "        sep=\"\\t\",\n",
        "        encoding=\"UTF-8\",\n",
        "        header=None,\n",
        "        names=col_names,\n",
        "        engine=\"python\",\n",
        "        quotechar='\"',\n",
        "        error_bad_lines=False,\n",
        "        skip_blank_lines=False,\n",
        "    )\n",
        "\n",
        "    return raw_data\n",
        "\n",
        "\n",
        "col_names = [\"forma\", \"lemat\", \"tag\", \"etykieta\"]\n",
        "raw_data = read_csv_data(\"/content/NKJP_org.csv\", col_names)\n",
        "raw_data"
      ],
      "metadata": {
        "colab": {
          "base_uri": "https://localhost:8080/",
          "height": 476
        },
        "id": "w3dyc8dAxioY",
        "outputId": "8f0400f0-1d40-4065-c550-72bf0cc7270c"
      },
      "execution_count": 4,
      "outputs": [
        {
          "output_type": "stream",
          "name": "stderr",
          "text": [
            "Skipping line 476905: '\t' expected after '\"'\n",
            "Skipping line 481586: '\t' expected after '\"'\n",
            "Skipping line 587296: unexpected end of data\n"
          ]
        },
        {
          "output_type": "execute_result",
          "data": {
            "text/plain": [
              "                                                    forma  \\\n",
              "0                                              Zatrzasnął   \n",
              "1                                                   drzwi   \n",
              "2                                                      od   \n",
              "3                                              mieszkania   \n",
              "4                                                       ,   \n",
              "...                                                   ...   \n",
              "587288                                            Szalone   \n",
              "587289                                              życie   \n",
              "587290                                            Rudolfa   \n",
              "587291  \\tinterp\\n\\nExtra\\tadj:sg:nom:n:pos\\n!\\tinterp...   \n",
              "587292                                             mlaska   \n",
              "\n",
              "                      lemat       tag  etykieta  \n",
              "0          praet:sg:m1:perf      None      None  \n",
              "1         subst:pl:acc:n:pt      None      None  \n",
              "2             prep:gen:nwok      None      None  \n",
              "3       subst:sg:gen:n:ncol      None      None  \n",
              "4                    interp      None      None  \n",
              "...                     ...       ...       ...  \n",
              "587288     adj:sg:acc:n:pos      None      None  \n",
              "587289  subst:sg:acc:n:ncol      None      None  \n",
              "587290      subst:sg:gen:m1  persName  forename  \n",
              "587291               interp      None      None  \n",
              "587292    fin:sg:ter:imperf      None      None  \n",
              "\n",
              "[587293 rows x 4 columns]"
            ],
            "text/html": [
              "\n",
              "  <div id=\"df-dd6bd1e6-e70f-4e2c-8d72-6e7434ff2a85\">\n",
              "    <div class=\"colab-df-container\">\n",
              "      <div>\n",
              "<style scoped>\n",
              "    .dataframe tbody tr th:only-of-type {\n",
              "        vertical-align: middle;\n",
              "    }\n",
              "\n",
              "    .dataframe tbody tr th {\n",
              "        vertical-align: top;\n",
              "    }\n",
              "\n",
              "    .dataframe thead th {\n",
              "        text-align: right;\n",
              "    }\n",
              "</style>\n",
              "<table border=\"1\" class=\"dataframe\">\n",
              "  <thead>\n",
              "    <tr style=\"text-align: right;\">\n",
              "      <th></th>\n",
              "      <th>forma</th>\n",
              "      <th>lemat</th>\n",
              "      <th>tag</th>\n",
              "      <th>etykieta</th>\n",
              "    </tr>\n",
              "  </thead>\n",
              "  <tbody>\n",
              "    <tr>\n",
              "      <th>0</th>\n",
              "      <td>Zatrzasnął</td>\n",
              "      <td>praet:sg:m1:perf</td>\n",
              "      <td>None</td>\n",
              "      <td>None</td>\n",
              "    </tr>\n",
              "    <tr>\n",
              "      <th>1</th>\n",
              "      <td>drzwi</td>\n",
              "      <td>subst:pl:acc:n:pt</td>\n",
              "      <td>None</td>\n",
              "      <td>None</td>\n",
              "    </tr>\n",
              "    <tr>\n",
              "      <th>2</th>\n",
              "      <td>od</td>\n",
              "      <td>prep:gen:nwok</td>\n",
              "      <td>None</td>\n",
              "      <td>None</td>\n",
              "    </tr>\n",
              "    <tr>\n",
              "      <th>3</th>\n",
              "      <td>mieszkania</td>\n",
              "      <td>subst:sg:gen:n:ncol</td>\n",
              "      <td>None</td>\n",
              "      <td>None</td>\n",
              "    </tr>\n",
              "    <tr>\n",
              "      <th>4</th>\n",
              "      <td>,</td>\n",
              "      <td>interp</td>\n",
              "      <td>None</td>\n",
              "      <td>None</td>\n",
              "    </tr>\n",
              "    <tr>\n",
              "      <th>...</th>\n",
              "      <td>...</td>\n",
              "      <td>...</td>\n",
              "      <td>...</td>\n",
              "      <td>...</td>\n",
              "    </tr>\n",
              "    <tr>\n",
              "      <th>587288</th>\n",
              "      <td>Szalone</td>\n",
              "      <td>adj:sg:acc:n:pos</td>\n",
              "      <td>None</td>\n",
              "      <td>None</td>\n",
              "    </tr>\n",
              "    <tr>\n",
              "      <th>587289</th>\n",
              "      <td>życie</td>\n",
              "      <td>subst:sg:acc:n:ncol</td>\n",
              "      <td>None</td>\n",
              "      <td>None</td>\n",
              "    </tr>\n",
              "    <tr>\n",
              "      <th>587290</th>\n",
              "      <td>Rudolfa</td>\n",
              "      <td>subst:sg:gen:m1</td>\n",
              "      <td>persName</td>\n",
              "      <td>forename</td>\n",
              "    </tr>\n",
              "    <tr>\n",
              "      <th>587291</th>\n",
              "      <td>\\tinterp\\n\\nExtra\\tadj:sg:nom:n:pos\\n!\\tinterp...</td>\n",
              "      <td>interp</td>\n",
              "      <td>None</td>\n",
              "      <td>None</td>\n",
              "    </tr>\n",
              "    <tr>\n",
              "      <th>587292</th>\n",
              "      <td>mlaska</td>\n",
              "      <td>fin:sg:ter:imperf</td>\n",
              "      <td>None</td>\n",
              "      <td>None</td>\n",
              "    </tr>\n",
              "  </tbody>\n",
              "</table>\n",
              "<p>587293 rows × 4 columns</p>\n",
              "</div>\n",
              "      <button class=\"colab-df-convert\" onclick=\"convertToInteractive('df-dd6bd1e6-e70f-4e2c-8d72-6e7434ff2a85')\"\n",
              "              title=\"Convert this dataframe to an interactive table.\"\n",
              "              style=\"display:none;\">\n",
              "        \n",
              "  <svg xmlns=\"http://www.w3.org/2000/svg\" height=\"24px\"viewBox=\"0 0 24 24\"\n",
              "       width=\"24px\">\n",
              "    <path d=\"M0 0h24v24H0V0z\" fill=\"none\"/>\n",
              "    <path d=\"M18.56 5.44l.94 2.06.94-2.06 2.06-.94-2.06-.94-.94-2.06-.94 2.06-2.06.94zm-11 1L8.5 8.5l.94-2.06 2.06-.94-2.06-.94L8.5 2.5l-.94 2.06-2.06.94zm10 10l.94 2.06.94-2.06 2.06-.94-2.06-.94-.94-2.06-.94 2.06-2.06.94z\"/><path d=\"M17.41 7.96l-1.37-1.37c-.4-.4-.92-.59-1.43-.59-.52 0-1.04.2-1.43.59L10.3 9.45l-7.72 7.72c-.78.78-.78 2.05 0 2.83L4 21.41c.39.39.9.59 1.41.59.51 0 1.02-.2 1.41-.59l7.78-7.78 2.81-2.81c.8-.78.8-2.07 0-2.86zM5.41 20L4 18.59l7.72-7.72 1.47 1.35L5.41 20z\"/>\n",
              "  </svg>\n",
              "      </button>\n",
              "      \n",
              "  <style>\n",
              "    .colab-df-container {\n",
              "      display:flex;\n",
              "      flex-wrap:wrap;\n",
              "      gap: 12px;\n",
              "    }\n",
              "\n",
              "    .colab-df-convert {\n",
              "      background-color: #E8F0FE;\n",
              "      border: none;\n",
              "      border-radius: 50%;\n",
              "      cursor: pointer;\n",
              "      display: none;\n",
              "      fill: #1967D2;\n",
              "      height: 32px;\n",
              "      padding: 0 0 0 0;\n",
              "      width: 32px;\n",
              "    }\n",
              "\n",
              "    .colab-df-convert:hover {\n",
              "      background-color: #E2EBFA;\n",
              "      box-shadow: 0px 1px 2px rgba(60, 64, 67, 0.3), 0px 1px 3px 1px rgba(60, 64, 67, 0.15);\n",
              "      fill: #174EA6;\n",
              "    }\n",
              "\n",
              "    [theme=dark] .colab-df-convert {\n",
              "      background-color: #3B4455;\n",
              "      fill: #D2E3FC;\n",
              "    }\n",
              "\n",
              "    [theme=dark] .colab-df-convert:hover {\n",
              "      background-color: #434B5C;\n",
              "      box-shadow: 0px 1px 3px 1px rgba(0, 0, 0, 0.15);\n",
              "      filter: drop-shadow(0px 1px 2px rgba(0, 0, 0, 0.3));\n",
              "      fill: #FFFFFF;\n",
              "    }\n",
              "  </style>\n",
              "\n",
              "      <script>\n",
              "        const buttonEl =\n",
              "          document.querySelector('#df-dd6bd1e6-e70f-4e2c-8d72-6e7434ff2a85 button.colab-df-convert');\n",
              "        buttonEl.style.display =\n",
              "          google.colab.kernel.accessAllowed ? 'block' : 'none';\n",
              "\n",
              "        async function convertToInteractive(key) {\n",
              "          const element = document.querySelector('#df-dd6bd1e6-e70f-4e2c-8d72-6e7434ff2a85');\n",
              "          const dataTable =\n",
              "            await google.colab.kernel.invokeFunction('convertToInteractive',\n",
              "                                                     [key], {});\n",
              "          if (!dataTable) return;\n",
              "\n",
              "          const docLinkHtml = 'Like what you see? Visit the ' +\n",
              "            '<a target=\"_blank\" href=https://colab.research.google.com/notebooks/data_table.ipynb>data table notebook</a>'\n",
              "            + ' to learn more about interactive tables.';\n",
              "          element.innerHTML = '';\n",
              "          dataTable['output_type'] = 'display_data';\n",
              "          await google.colab.output.renderOutput(dataTable, element);\n",
              "          const docLink = document.createElement('div');\n",
              "          docLink.innerHTML = docLinkHtml;\n",
              "          element.appendChild(docLink);\n",
              "        }\n",
              "      </script>\n",
              "    </div>\n",
              "  </div>\n",
              "  "
            ]
          },
          "metadata": {},
          "execution_count": 4
        }
      ]
    },
    {
      "cell_type": "markdown",
      "source": [
        "Tak wyglądaja nasze surowe dane. Przed nami sporo pracy - dane musimy odpowiednio przygotować."
      ],
      "metadata": {
        "id": "t1b7Zox7-7pr"
      }
    },
    {
      "cell_type": "markdown",
      "source": [
        "Zaczniemy od lematyzacji każdego słowa. Wykorzystamy bibliotekę spacy i gotowy model `pl_core_news_sm`. Niestety odaplając funkcję poniżej jesteśmy zmuszeni długo poczekać. Ja oczywiście już to zrobiłem wcześniej, z tej racji można przejść kilka komórek niżej - czyli pominąć proces lematyzacji i obróbki danych. Gotowe dane zapisałem do nowego pliku i poźniej jest pobierany. Aby przejść do tego momentu w Spisie treści kliknąć podroździał `OPCJONALNIE - pobranie obrobionych danych`\n",
        "\n",
        "Aby przygotować dane zostały wykonane następujące kroki:\n",
        "\n",
        "* lematyzacja \n",
        "* usunięcie słów tzw. stop words\n",
        "* usunięcie znaków interpunkcyjnych \n",
        "* stworzenie poprawnej kolumny z tagiem dla każdego słowa za pomocą funkcji `create_clean_tag_column`\n",
        "\n",
        "\n"
      ],
      "metadata": {
        "id": "Ba_LmgXS_HeT"
      }
    },
    {
      "cell_type": "code",
      "source": [
        "nlp = spacy.load(\"pl_core_news_sm\")\n",
        "\n",
        "\n",
        "def lemmatize_word(word):\n",
        "    if not pd.isna(word):\n",
        "        doc = nlp(word)\n",
        "        for token in doc:\n",
        "            lemmatized_token = token.lemma_\n",
        "        return lemmatized_token\n",
        "\n",
        "\n",
        "raw_data[\"forma\"] = raw_data[\"forma\"].map(lemmatize_word)"
      ],
      "metadata": {
        "id": "8qtxRtnbUUno"
      },
      "execution_count": null,
      "outputs": []
    },
    {
      "cell_type": "code",
      "source": [
        "def remove_stop_words(df):\n",
        "\n",
        "    stop_words = get_stop_words(\"polish\")\n",
        "    df = df[~df[\"forma\"].isin(stop_words)]\n",
        "\n",
        "    return df\n",
        "\n",
        "\n",
        "raw_data = remove_stop_words(raw_data)"
      ],
      "metadata": {
        "id": "UDxCFoQlyjbu"
      },
      "execution_count": null,
      "outputs": []
    },
    {
      "cell_type": "code",
      "source": [
        "def remove_interp_chars(df):\n",
        "    df = df.loc[~(df[\"lemat\"] == \"interp\")]\n",
        "\n",
        "    return df\n",
        "\n",
        "\n",
        "def create_clean_tag_column(df):\n",
        "\n",
        "    df.etykieta.fillna(df.tag, inplace=True)\n",
        "    df[[\"tag\", \"etykieta\"]] = df[[\"tag\", \"etykieta\"]].applymap(\n",
        "        lambda x: \"O\" if pd.isnull(x) else x\n",
        "    )\n",
        "\n",
        "    df[[\"tag\", \"etykieta\"]] = df[[\"tag\", \"etykieta\"]].applymap(\n",
        "        lambda x: \"O\" if pd.isnull(x) else x\n",
        "    )\n",
        "\n",
        "    df.drop(\"lemat\", axis=1, inplace=True)\n",
        "    df.drop(\"tag\", axis=1, inplace=True)\n",
        "\n",
        "    return df\n",
        "\n",
        "\n",
        "clean_data = remove_interp_chars(raw_data)\n",
        "clean_data = create_clean_tag_column(clean_data)"
      ],
      "metadata": {
        "id": "3_n5FuEe2hxd"
      },
      "execution_count": null,
      "outputs": []
    },
    {
      "cell_type": "code",
      "source": [
        "clean_data['etykieta'].value_counts()"
      ],
      "metadata": {
        "colab": {
          "base_uri": "https://localhost:8080/"
        },
        "id": "btApsEU14eBZ",
        "outputId": "22444673-ae4f-41cc-c0fa-c5e703e62657"
      },
      "execution_count": null,
      "outputs": [
        {
          "output_type": "execute_result",
          "data": {
            "text/plain": [
              "O             382308\n",
              "surname         6647\n",
              "forename        6613\n",
              "orgName         4960\n",
              "country         3975\n",
              "settlement      3813\n",
              "geogName        1994\n",
              "date            1973\n",
              "persName         571\n",
              "addName          447\n",
              "region           290\n",
              "time             193\n",
              "district         182\n",
              "placeName        140\n",
              "bloc              59\n",
              "Name: etykieta, dtype: int64"
            ]
          },
          "metadata": {},
          "execution_count": 7
        }
      ]
    },
    {
      "cell_type": "code",
      "source": [
        "clean_data['etykieta'].value_counts(normalize=True)"
      ],
      "metadata": {
        "colab": {
          "base_uri": "https://localhost:8080/"
        },
        "id": "xwkkLmtdBrmB",
        "outputId": "2738caf5-39d4-4667-a407-98e89a5a94f4"
      },
      "execution_count": null,
      "outputs": [
        {
          "output_type": "execute_result",
          "data": {
            "text/plain": [
              "O             0.923081\n",
              "surname       0.016049\n",
              "forename      0.015967\n",
              "orgName       0.011976\n",
              "country       0.009598\n",
              "settlement    0.009206\n",
              "geogName      0.004815\n",
              "date          0.004764\n",
              "persName      0.001379\n",
              "addName       0.001079\n",
              "region        0.000700\n",
              "time          0.000466\n",
              "district      0.000439\n",
              "placeName     0.000338\n",
              "bloc          0.000142\n",
              "Name: etykieta, dtype: float64"
            ]
          },
          "metadata": {},
          "execution_count": 8
        }
      ]
    },
    {
      "cell_type": "markdown",
      "source": [
        "Powyżej możemy wstępnie podejrzeć jak wygląda rozkład naszych tagów. Zdecydowanie przeważa tutaj tag `O` - czyli ten który wskazuje na zwykłe słowo niebędące nazwą własną - to jest aż 92% wszystkich słów w naszym zbiorze.\n",
        "\n",
        "Łącznie mamy 15 unikalnych tagów -  to sporo każdy poza `O` symbolizuje nazwę własną jednak o innym charaketerze. Przykładowo tagi których stosunek do wszystkich wystąpień tagów przekracza 1% to:\n",
        "\n",
        "* `surname` - czyli nazwisko\n",
        "* `forename` - czyli imię\n",
        "* `orgName` - nazwa własna np. nazwa organziacji/firmy"
      ],
      "metadata": {
        "id": "ebMRYuSLBJYY"
      }
    },
    {
      "cell_type": "markdown",
      "source": [
        "Na koniec musimy pogrupować nasze dane tak aby z rozdzielonych słów zbudować wiersze z pełnymi zdaniami. Umożliwi to nam pusta przerwa między nowymi zdaniami. To samo zrobimy dla kolumny z tagami i zamienimy do listy. Sprawdźmy poniżej jak będą wyglądać nasze dane po tym zabiegu."
      ],
      "metadata": {
        "id": "qk1DdMUYDL6g"
      }
    },
    {
      "cell_type": "code",
      "source": [
        "def group_sentences(df):\n",
        "\n",
        "    df[\"zdanie\"] = 1\n",
        "    df[\"zdanie\"] = df[\"forma\"].isnull().cumsum()\n",
        "\n",
        "    df = df[df[\"forma\"].notna()]\n",
        "\n",
        "    aggr_sentences = (\n",
        "        df.groupby([\"zdanie\"])[\"forma\"].apply(lambda x: \" \".join(x)).reset_index()\n",
        "    )\n",
        "    return aggr_sentences\n",
        "\n",
        "\n",
        "def group_tags(df):\n",
        "    aggr_tokens = (\n",
        "        df.groupby([\"zdanie\"])[\"etykieta\"].apply(lambda x: \" \".join(x)).reset_index()\n",
        "    )\n",
        "    aggr_tokens[\"etykieta\"] = aggr_tokens[\"etykieta\"].str.split(\" \")\n",
        "\n",
        "    return aggr_tokens\n",
        "\n",
        "\n",
        "def merge_dfs(df_1, df_2, on, how):\n",
        "\n",
        "    sentences_df = df_1.merge(df_2, on=on, how=how)\n",
        "\n",
        "    return sentences_df\n",
        "\n",
        "\n",
        "aggr_sentences = group_sentences(clean_data)\n",
        "aggr_tokens = group_tags(clean_data)\n",
        "sentences_df = merge_dfs(df_1 = aggr_sentences, df_2 = aggr_tokens, on = 'zdanie', how = 'left')\n",
        "\n",
        "sentences_df"
      ],
      "metadata": {
        "colab": {
          "base_uri": "https://localhost:8080/",
          "height": 424
        },
        "id": "vRGgNt6c4gyu",
        "outputId": "796ac1ad-cb83-4eb6-9b95-0cf76e529e22"
      },
      "execution_count": null,
      "outputs": [
        {
          "output_type": "execute_result",
          "data": {
            "text/plain": [
              "       zdanie                                              forma  \\\n",
              "0           0  Zatrzasnął drzwi mieszkania razy przekręcił kl...   \n",
              "1           1  Bohaterem powieści Paźniewskiego miasto Krzemi...   \n",
              "2           2  Jak za czasów Słowackiego funkcjonuje Liceum i...   \n",
              "3           3  Krzemieniec powieściowy tamtym Krzemieńcem ale...   \n",
              "4           4      Swoją drogę tego miasta autor zaczął z daleka   \n",
              "...       ...                                                ...   \n",
              "38085   38218  Przedstaw podstawie wybranych utworów literack...   \n",
              "38086   38219  Rozważ problem wybranych przykładach literacki...   \n",
              "38087   38220  Wyróżniającą cechą szamana niezależnie kultury...   \n",
              "38088   38221  Ani wiedza ani zrozumienie ani też bierna akce...   \n",
              "38089   38222  Szaman zagłębia w doświadczenia życiowe przy p...   \n",
              "\n",
              "                                                etykieta  \n",
              "0      [O, O, O, O, O, O, O, O, O, O, O, O, O, O, O, ...  \n",
              "1                      [O, O, O, surname, O, settlement]  \n",
              "2      [O, O, O, O, surname, O, orgName, O, O, geogName]  \n",
              "3      [O, settlement, O, O, settlement, O, O, O, O, ...  \n",
              "4                            [O, O, O, O, O, O, O, O, O]  \n",
              "...                                                  ...  \n",
              "38085                        [O, O, O, O, O, O, O, O, O]  \n",
              "38086  [O, O, O, O, O, O, O, O, O, O, O, O, O, O, O, ...  \n",
              "38087                     [O, O, O, O, O, O, O, O, O, O]  \n",
              "38088            [O, O, O, O, O, O, O, O, O, O, O, O, O]  \n",
              "38089  [O, O, O, O, O, O, O, O, O, O, O, O, O, O, O, ...  \n",
              "\n",
              "[38090 rows x 3 columns]"
            ],
            "text/html": [
              "\n",
              "  <div id=\"df-c99180b1-007b-4170-a08e-6116d21595bd\">\n",
              "    <div class=\"colab-df-container\">\n",
              "      <div>\n",
              "<style scoped>\n",
              "    .dataframe tbody tr th:only-of-type {\n",
              "        vertical-align: middle;\n",
              "    }\n",
              "\n",
              "    .dataframe tbody tr th {\n",
              "        vertical-align: top;\n",
              "    }\n",
              "\n",
              "    .dataframe thead th {\n",
              "        text-align: right;\n",
              "    }\n",
              "</style>\n",
              "<table border=\"1\" class=\"dataframe\">\n",
              "  <thead>\n",
              "    <tr style=\"text-align: right;\">\n",
              "      <th></th>\n",
              "      <th>zdanie</th>\n",
              "      <th>forma</th>\n",
              "      <th>etykieta</th>\n",
              "    </tr>\n",
              "  </thead>\n",
              "  <tbody>\n",
              "    <tr>\n",
              "      <th>0</th>\n",
              "      <td>0</td>\n",
              "      <td>Zatrzasnął drzwi mieszkania razy przekręcił kl...</td>\n",
              "      <td>[O, O, O, O, O, O, O, O, O, O, O, O, O, O, O, ...</td>\n",
              "    </tr>\n",
              "    <tr>\n",
              "      <th>1</th>\n",
              "      <td>1</td>\n",
              "      <td>Bohaterem powieści Paźniewskiego miasto Krzemi...</td>\n",
              "      <td>[O, O, O, surname, O, settlement]</td>\n",
              "    </tr>\n",
              "    <tr>\n",
              "      <th>2</th>\n",
              "      <td>2</td>\n",
              "      <td>Jak za czasów Słowackiego funkcjonuje Liceum i...</td>\n",
              "      <td>[O, O, O, O, surname, O, orgName, O, O, geogName]</td>\n",
              "    </tr>\n",
              "    <tr>\n",
              "      <th>3</th>\n",
              "      <td>3</td>\n",
              "      <td>Krzemieniec powieściowy tamtym Krzemieńcem ale...</td>\n",
              "      <td>[O, settlement, O, O, settlement, O, O, O, O, ...</td>\n",
              "    </tr>\n",
              "    <tr>\n",
              "      <th>4</th>\n",
              "      <td>4</td>\n",
              "      <td>Swoją drogę tego miasta autor zaczął z daleka</td>\n",
              "      <td>[O, O, O, O, O, O, O, O, O]</td>\n",
              "    </tr>\n",
              "    <tr>\n",
              "      <th>...</th>\n",
              "      <td>...</td>\n",
              "      <td>...</td>\n",
              "      <td>...</td>\n",
              "    </tr>\n",
              "    <tr>\n",
              "      <th>38085</th>\n",
              "      <td>38218</td>\n",
              "      <td>Przedstaw podstawie wybranych utworów literack...</td>\n",
              "      <td>[O, O, O, O, O, O, O, O, O]</td>\n",
              "    </tr>\n",
              "    <tr>\n",
              "      <th>38086</th>\n",
              "      <td>38219</td>\n",
              "      <td>Rozważ problem wybranych przykładach literacki...</td>\n",
              "      <td>[O, O, O, O, O, O, O, O, O, O, O, O, O, O, O, ...</td>\n",
              "    </tr>\n",
              "    <tr>\n",
              "      <th>38087</th>\n",
              "      <td>38220</td>\n",
              "      <td>Wyróżniającą cechą szamana niezależnie kultury...</td>\n",
              "      <td>[O, O, O, O, O, O, O, O, O, O]</td>\n",
              "    </tr>\n",
              "    <tr>\n",
              "      <th>38088</th>\n",
              "      <td>38221</td>\n",
              "      <td>Ani wiedza ani zrozumienie ani też bierna akce...</td>\n",
              "      <td>[O, O, O, O, O, O, O, O, O, O, O, O, O]</td>\n",
              "    </tr>\n",
              "    <tr>\n",
              "      <th>38089</th>\n",
              "      <td>38222</td>\n",
              "      <td>Szaman zagłębia w doświadczenia życiowe przy p...</td>\n",
              "      <td>[O, O, O, O, O, O, O, O, O, O, O, O, O, O, O, ...</td>\n",
              "    </tr>\n",
              "  </tbody>\n",
              "</table>\n",
              "<p>38090 rows × 3 columns</p>\n",
              "</div>\n",
              "      <button class=\"colab-df-convert\" onclick=\"convertToInteractive('df-c99180b1-007b-4170-a08e-6116d21595bd')\"\n",
              "              title=\"Convert this dataframe to an interactive table.\"\n",
              "              style=\"display:none;\">\n",
              "        \n",
              "  <svg xmlns=\"http://www.w3.org/2000/svg\" height=\"24px\"viewBox=\"0 0 24 24\"\n",
              "       width=\"24px\">\n",
              "    <path d=\"M0 0h24v24H0V0z\" fill=\"none\"/>\n",
              "    <path d=\"M18.56 5.44l.94 2.06.94-2.06 2.06-.94-2.06-.94-.94-2.06-.94 2.06-2.06.94zm-11 1L8.5 8.5l.94-2.06 2.06-.94-2.06-.94L8.5 2.5l-.94 2.06-2.06.94zm10 10l.94 2.06.94-2.06 2.06-.94-2.06-.94-.94-2.06-.94 2.06-2.06.94z\"/><path d=\"M17.41 7.96l-1.37-1.37c-.4-.4-.92-.59-1.43-.59-.52 0-1.04.2-1.43.59L10.3 9.45l-7.72 7.72c-.78.78-.78 2.05 0 2.83L4 21.41c.39.39.9.59 1.41.59.51 0 1.02-.2 1.41-.59l7.78-7.78 2.81-2.81c.8-.78.8-2.07 0-2.86zM5.41 20L4 18.59l7.72-7.72 1.47 1.35L5.41 20z\"/>\n",
              "  </svg>\n",
              "      </button>\n",
              "      \n",
              "  <style>\n",
              "    .colab-df-container {\n",
              "      display:flex;\n",
              "      flex-wrap:wrap;\n",
              "      gap: 12px;\n",
              "    }\n",
              "\n",
              "    .colab-df-convert {\n",
              "      background-color: #E8F0FE;\n",
              "      border: none;\n",
              "      border-radius: 50%;\n",
              "      cursor: pointer;\n",
              "      display: none;\n",
              "      fill: #1967D2;\n",
              "      height: 32px;\n",
              "      padding: 0 0 0 0;\n",
              "      width: 32px;\n",
              "    }\n",
              "\n",
              "    .colab-df-convert:hover {\n",
              "      background-color: #E2EBFA;\n",
              "      box-shadow: 0px 1px 2px rgba(60, 64, 67, 0.3), 0px 1px 3px 1px rgba(60, 64, 67, 0.15);\n",
              "      fill: #174EA6;\n",
              "    }\n",
              "\n",
              "    [theme=dark] .colab-df-convert {\n",
              "      background-color: #3B4455;\n",
              "      fill: #D2E3FC;\n",
              "    }\n",
              "\n",
              "    [theme=dark] .colab-df-convert:hover {\n",
              "      background-color: #434B5C;\n",
              "      box-shadow: 0px 1px 3px 1px rgba(0, 0, 0, 0.15);\n",
              "      filter: drop-shadow(0px 1px 2px rgba(0, 0, 0, 0.3));\n",
              "      fill: #FFFFFF;\n",
              "    }\n",
              "  </style>\n",
              "\n",
              "      <script>\n",
              "        const buttonEl =\n",
              "          document.querySelector('#df-c99180b1-007b-4170-a08e-6116d21595bd button.colab-df-convert');\n",
              "        buttonEl.style.display =\n",
              "          google.colab.kernel.accessAllowed ? 'block' : 'none';\n",
              "\n",
              "        async function convertToInteractive(key) {\n",
              "          const element = document.querySelector('#df-c99180b1-007b-4170-a08e-6116d21595bd');\n",
              "          const dataTable =\n",
              "            await google.colab.kernel.invokeFunction('convertToInteractive',\n",
              "                                                     [key], {});\n",
              "          if (!dataTable) return;\n",
              "\n",
              "          const docLinkHtml = 'Like what you see? Visit the ' +\n",
              "            '<a target=\"_blank\" href=https://colab.research.google.com/notebooks/data_table.ipynb>data table notebook</a>'\n",
              "            + ' to learn more about interactive tables.';\n",
              "          element.innerHTML = '';\n",
              "          dataTable['output_type'] = 'display_data';\n",
              "          await google.colab.output.renderOutput(dataTable, element);\n",
              "          const docLink = document.createElement('div');\n",
              "          docLink.innerHTML = docLinkHtml;\n",
              "          element.appendChild(docLink);\n",
              "        }\n",
              "      </script>\n",
              "    </div>\n",
              "  </div>\n",
              "  "
            ]
          },
          "metadata": {},
          "execution_count": 9
        }
      ]
    },
    {
      "cell_type": "markdown",
      "source": [
        "## OPCJONALNIE - pobranie obrobionych danych\n",
        "\n",
        "W tym miejscu kontynuacja jeśli nie wykonaliśmy powyższych kroków. Tak naprawdę możemy zacząć od tego miejsca od zera (wcześniej tylko importy bibliotek i instalacja - 1 i 2 komórka)\n",
        "\n",
        "Pobieramy oczyszczone i przygotowane dane, a następnie je wczytujemy. Biblioteka ast umozliwi nam konwersję string do listy."
      ],
      "metadata": {
        "id": "O6gd8COzDwVZ"
      }
    },
    {
      "cell_type": "code",
      "source": [
        "!wget https://raw.githubusercontent.com/doxenix/INL/main/clean_data_with_lemma.csv"
      ],
      "metadata": {
        "colab": {
          "base_uri": "https://localhost:8080/"
        },
        "id": "M9Cx3gWn69Ig",
        "outputId": "a961f1a2-40f9-477f-e167-13eb4ff615fb"
      },
      "execution_count": 5,
      "outputs": [
        {
          "output_type": "stream",
          "name": "stdout",
          "text": [
            "--2022-12-24 12:45:54--  https://raw.githubusercontent.com/doxenix/INL/main/clean_data_with_lemma.csv\n",
            "Resolving raw.githubusercontent.com (raw.githubusercontent.com)... 185.199.108.133, 185.199.109.133, 185.199.110.133, ...\n",
            "Connecting to raw.githubusercontent.com (raw.githubusercontent.com)|185.199.108.133|:443... connected.\n",
            "HTTP request sent, awaiting response... 200 OK\n",
            "Length: 5179828 (4.9M) [text/plain]\n",
            "Saving to: ‘clean_data_with_lemma.csv’\n",
            "\n",
            "clean_data_with_lem 100%[===================>]   4.94M  --.-KB/s    in 0.05s   \n",
            "\n",
            "2022-12-24 12:45:55 (102 MB/s) - ‘clean_data_with_lemma.csv’ saved [5179828/5179828]\n",
            "\n"
          ]
        }
      ]
    },
    {
      "cell_type": "code",
      "source": [
        "def read_preprocessed_data(path):\n",
        "    df = pd.read_csv(path)\n",
        "    df[\"etykieta\"] = df[\"etykieta\"].apply(lambda x: ast.literal_eval(x))\n",
        "\n",
        "    return df\n",
        "\n",
        "\n",
        "sentences_df = read_preprocessed_data(\"clean_data_with_lemma.csv\")\n",
        "sentences_df"
      ],
      "metadata": {
        "colab": {
          "base_uri": "https://localhost:8080/",
          "height": 424
        },
        "id": "W9CXFUfnlq8a",
        "outputId": "3ac18253-340b-48fa-e1f4-32ed25464dba"
      },
      "execution_count": 6,
      "outputs": [
        {
          "output_type": "execute_result",
          "data": {
            "text/plain": [
              "       zdanie                                              forma  \\\n",
              "0           0  zatrzasnąć drzwi mieszkanie raz przekręcić klu...   \n",
              "1           1     Bohater powieść paźniewskiy miasto krzemieniec   \n",
              "2           2  jak za czas Słowacki funkcjonować liceum i pły...   \n",
              "3           3  krzemieniec powieściowy tamto Krzemieńcem ale ...   \n",
              "4           4         swój droga to miasto autor zacząć z daleki   \n",
              "...       ...                                                ...   \n",
              "38085   38218  Przedstaw podstawa wybrać utwór literacki czło...   \n",
              "38086   38219  Rozważ problem wybrać przykład literacki wizja...   \n",
              "38087   38220  Wyróżniającą cecha szamać niezależnie kultura ...   \n",
              "38088   38221  ani wiedza ani zrozumienie ani też bierny akce...   \n",
              "38089   38222  szaman zagłębia w doświadczenie życiowy przy p...   \n",
              "\n",
              "                                                etykieta  \n",
              "0      [O, O, O, O, O, O, O, O, O, O, O, O, O, O, O, ...  \n",
              "1                         [O, O, surname, O, settlement]  \n",
              "2         [O, O, O, surname, O, orgName, O, O, geogName]  \n",
              "3      [settlement, O, O, settlement, O, O, O, O, O, ...  \n",
              "4                               [O, O, O, O, O, O, O, O]  \n",
              "...                                                  ...  \n",
              "38085                           [O, O, O, O, O, O, O, O]  \n",
              "38086  [O, O, O, O, O, O, O, O, O, O, O, O, O, O, O, ...  \n",
              "38087                        [O, O, O, O, O, O, O, O, O]  \n",
              "38088               [O, O, O, O, O, O, O, O, O, O, O, O]  \n",
              "38089  [O, O, O, O, O, O, O, O, O, O, O, O, O, O, O, ...  \n",
              "\n",
              "[38090 rows x 3 columns]"
            ],
            "text/html": [
              "\n",
              "  <div id=\"df-224b93fb-0bfe-49ba-867c-fd695f1953c3\">\n",
              "    <div class=\"colab-df-container\">\n",
              "      <div>\n",
              "<style scoped>\n",
              "    .dataframe tbody tr th:only-of-type {\n",
              "        vertical-align: middle;\n",
              "    }\n",
              "\n",
              "    .dataframe tbody tr th {\n",
              "        vertical-align: top;\n",
              "    }\n",
              "\n",
              "    .dataframe thead th {\n",
              "        text-align: right;\n",
              "    }\n",
              "</style>\n",
              "<table border=\"1\" class=\"dataframe\">\n",
              "  <thead>\n",
              "    <tr style=\"text-align: right;\">\n",
              "      <th></th>\n",
              "      <th>zdanie</th>\n",
              "      <th>forma</th>\n",
              "      <th>etykieta</th>\n",
              "    </tr>\n",
              "  </thead>\n",
              "  <tbody>\n",
              "    <tr>\n",
              "      <th>0</th>\n",
              "      <td>0</td>\n",
              "      <td>zatrzasnąć drzwi mieszkanie raz przekręcić klu...</td>\n",
              "      <td>[O, O, O, O, O, O, O, O, O, O, O, O, O, O, O, ...</td>\n",
              "    </tr>\n",
              "    <tr>\n",
              "      <th>1</th>\n",
              "      <td>1</td>\n",
              "      <td>Bohater powieść paźniewskiy miasto krzemieniec</td>\n",
              "      <td>[O, O, surname, O, settlement]</td>\n",
              "    </tr>\n",
              "    <tr>\n",
              "      <th>2</th>\n",
              "      <td>2</td>\n",
              "      <td>jak za czas Słowacki funkcjonować liceum i pły...</td>\n",
              "      <td>[O, O, O, surname, O, orgName, O, O, geogName]</td>\n",
              "    </tr>\n",
              "    <tr>\n",
              "      <th>3</th>\n",
              "      <td>3</td>\n",
              "      <td>krzemieniec powieściowy tamto Krzemieńcem ale ...</td>\n",
              "      <td>[settlement, O, O, settlement, O, O, O, O, O, ...</td>\n",
              "    </tr>\n",
              "    <tr>\n",
              "      <th>4</th>\n",
              "      <td>4</td>\n",
              "      <td>swój droga to miasto autor zacząć z daleki</td>\n",
              "      <td>[O, O, O, O, O, O, O, O]</td>\n",
              "    </tr>\n",
              "    <tr>\n",
              "      <th>...</th>\n",
              "      <td>...</td>\n",
              "      <td>...</td>\n",
              "      <td>...</td>\n",
              "    </tr>\n",
              "    <tr>\n",
              "      <th>38085</th>\n",
              "      <td>38218</td>\n",
              "      <td>Przedstaw podstawa wybrać utwór literacki czło...</td>\n",
              "      <td>[O, O, O, O, O, O, O, O]</td>\n",
              "    </tr>\n",
              "    <tr>\n",
              "      <th>38086</th>\n",
              "      <td>38219</td>\n",
              "      <td>Rozważ problem wybrać przykład literacki wizja...</td>\n",
              "      <td>[O, O, O, O, O, O, O, O, O, O, O, O, O, O, O, ...</td>\n",
              "    </tr>\n",
              "    <tr>\n",
              "      <th>38087</th>\n",
              "      <td>38220</td>\n",
              "      <td>Wyróżniającą cecha szamać niezależnie kultura ...</td>\n",
              "      <td>[O, O, O, O, O, O, O, O, O]</td>\n",
              "    </tr>\n",
              "    <tr>\n",
              "      <th>38088</th>\n",
              "      <td>38221</td>\n",
              "      <td>ani wiedza ani zrozumienie ani też bierny akce...</td>\n",
              "      <td>[O, O, O, O, O, O, O, O, O, O, O, O]</td>\n",
              "    </tr>\n",
              "    <tr>\n",
              "      <th>38089</th>\n",
              "      <td>38222</td>\n",
              "      <td>szaman zagłębia w doświadczenie życiowy przy p...</td>\n",
              "      <td>[O, O, O, O, O, O, O, O, O, O, O, O, O, O, O, ...</td>\n",
              "    </tr>\n",
              "  </tbody>\n",
              "</table>\n",
              "<p>38090 rows × 3 columns</p>\n",
              "</div>\n",
              "      <button class=\"colab-df-convert\" onclick=\"convertToInteractive('df-224b93fb-0bfe-49ba-867c-fd695f1953c3')\"\n",
              "              title=\"Convert this dataframe to an interactive table.\"\n",
              "              style=\"display:none;\">\n",
              "        \n",
              "  <svg xmlns=\"http://www.w3.org/2000/svg\" height=\"24px\"viewBox=\"0 0 24 24\"\n",
              "       width=\"24px\">\n",
              "    <path d=\"M0 0h24v24H0V0z\" fill=\"none\"/>\n",
              "    <path d=\"M18.56 5.44l.94 2.06.94-2.06 2.06-.94-2.06-.94-.94-2.06-.94 2.06-2.06.94zm-11 1L8.5 8.5l.94-2.06 2.06-.94-2.06-.94L8.5 2.5l-.94 2.06-2.06.94zm10 10l.94 2.06.94-2.06 2.06-.94-2.06-.94-.94-2.06-.94 2.06-2.06.94z\"/><path d=\"M17.41 7.96l-1.37-1.37c-.4-.4-.92-.59-1.43-.59-.52 0-1.04.2-1.43.59L10.3 9.45l-7.72 7.72c-.78.78-.78 2.05 0 2.83L4 21.41c.39.39.9.59 1.41.59.51 0 1.02-.2 1.41-.59l7.78-7.78 2.81-2.81c.8-.78.8-2.07 0-2.86zM5.41 20L4 18.59l7.72-7.72 1.47 1.35L5.41 20z\"/>\n",
              "  </svg>\n",
              "      </button>\n",
              "      \n",
              "  <style>\n",
              "    .colab-df-container {\n",
              "      display:flex;\n",
              "      flex-wrap:wrap;\n",
              "      gap: 12px;\n",
              "    }\n",
              "\n",
              "    .colab-df-convert {\n",
              "      background-color: #E8F0FE;\n",
              "      border: none;\n",
              "      border-radius: 50%;\n",
              "      cursor: pointer;\n",
              "      display: none;\n",
              "      fill: #1967D2;\n",
              "      height: 32px;\n",
              "      padding: 0 0 0 0;\n",
              "      width: 32px;\n",
              "    }\n",
              "\n",
              "    .colab-df-convert:hover {\n",
              "      background-color: #E2EBFA;\n",
              "      box-shadow: 0px 1px 2px rgba(60, 64, 67, 0.3), 0px 1px 3px 1px rgba(60, 64, 67, 0.15);\n",
              "      fill: #174EA6;\n",
              "    }\n",
              "\n",
              "    [theme=dark] .colab-df-convert {\n",
              "      background-color: #3B4455;\n",
              "      fill: #D2E3FC;\n",
              "    }\n",
              "\n",
              "    [theme=dark] .colab-df-convert:hover {\n",
              "      background-color: #434B5C;\n",
              "      box-shadow: 0px 1px 3px 1px rgba(0, 0, 0, 0.15);\n",
              "      filter: drop-shadow(0px 1px 2px rgba(0, 0, 0, 0.3));\n",
              "      fill: #FFFFFF;\n",
              "    }\n",
              "  </style>\n",
              "\n",
              "      <script>\n",
              "        const buttonEl =\n",
              "          document.querySelector('#df-224b93fb-0bfe-49ba-867c-fd695f1953c3 button.colab-df-convert');\n",
              "        buttonEl.style.display =\n",
              "          google.colab.kernel.accessAllowed ? 'block' : 'none';\n",
              "\n",
              "        async function convertToInteractive(key) {\n",
              "          const element = document.querySelector('#df-224b93fb-0bfe-49ba-867c-fd695f1953c3');\n",
              "          const dataTable =\n",
              "            await google.colab.kernel.invokeFunction('convertToInteractive',\n",
              "                                                     [key], {});\n",
              "          if (!dataTable) return;\n",
              "\n",
              "          const docLinkHtml = 'Like what you see? Visit the ' +\n",
              "            '<a target=\"_blank\" href=https://colab.research.google.com/notebooks/data_table.ipynb>data table notebook</a>'\n",
              "            + ' to learn more about interactive tables.';\n",
              "          element.innerHTML = '';\n",
              "          dataTable['output_type'] = 'display_data';\n",
              "          await google.colab.output.renderOutput(dataTable, element);\n",
              "          const docLink = document.createElement('div');\n",
              "          docLink.innerHTML = docLinkHtml;\n",
              "          element.appendChild(docLink);\n",
              "        }\n",
              "      </script>\n",
              "    </div>\n",
              "  </div>\n",
              "  "
            ]
          },
          "metadata": {},
          "execution_count": 6
        }
      ]
    },
    {
      "cell_type": "markdown",
      "source": [
        "Tak prezentują się nasze gotowe dane. To jednak nie koniec. Zależy nam aby dane były jak najlepszej jakości. Zweryfikujemy teraz poprawność dopasowań słów do tagu w każdym zdaniu czyli każdym wierszu:"
      ],
      "metadata": {
        "id": "kJHMcmiyVTEp"
      }
    },
    {
      "cell_type": "code",
      "source": [
        "def check_num_equal_rows(df):\n",
        "\n",
        "    df[\"list_sentence\"] = df[\"forma\"].apply(lambda x: x.strip().split(\" \"))\n",
        "    df[\"len_sentence\"] = df[\"list_sentence\"].apply(lambda x: len(x))\n",
        "    df[\"len_tag\"] = df[\"etykieta\"].apply(lambda x: len(x))\n",
        "    df[\"is_equal\"] = df.apply(\n",
        "        lambda row: True if row[\"len_sentence\"] == row[\"len_tag\"] else False, axis=1\n",
        "    )\n",
        "    print(df[\"is_equal\"].value_counts())\n",
        "\n",
        "check_num_equal_rows(sentences_df)"
      ],
      "metadata": {
        "colab": {
          "base_uri": "https://localhost:8080/"
        },
        "id": "xRBa2H9pJNFj",
        "outputId": "9ce7f69b-c8ec-4345-dd00-545ec6883585"
      },
      "execution_count": 7,
      "outputs": [
        {
          "output_type": "stream",
          "name": "stdout",
          "text": [
            "True     37436\n",
            "False      654\n",
            "Name: is_equal, dtype: int64\n"
          ]
        }
      ]
    },
    {
      "cell_type": "markdown",
      "source": [
        "Niestety w `654` wierszach liczba słów do liczby tagów się nie zgadzała. To spora ilość, jednak nie możemy pozwolić sobie na użycie tych wierszy. To co prawda będzie spory ubytek w naszych danych, ale kierujemy się tutaj przestrogą `garbage in = garbage out`. Spróbujemy to poźniej zrekompensować.\n",
        "\n",
        "Usuwamy wiersze:"
      ],
      "metadata": {
        "id": "G_1PJ0chVtYn"
      }
    },
    {
      "cell_type": "code",
      "source": [
        "sentences_df = sentences_df[sentences_df['is_equal']!=False]\n",
        "sentences_df"
      ],
      "metadata": {
        "colab": {
          "base_uri": "https://localhost:8080/",
          "height": 424
        },
        "id": "Ye3qNsbSJa-z",
        "outputId": "c70b11b9-3aad-4250-e5b8-209e2ab12887"
      },
      "execution_count": 8,
      "outputs": [
        {
          "output_type": "execute_result",
          "data": {
            "text/plain": [
              "       zdanie                                              forma  \\\n",
              "0           0  zatrzasnąć drzwi mieszkanie raz przekręcić klu...   \n",
              "1           1     Bohater powieść paźniewskiy miasto krzemieniec   \n",
              "2           2  jak za czas Słowacki funkcjonować liceum i pły...   \n",
              "3           3  krzemieniec powieściowy tamto Krzemieńcem ale ...   \n",
              "4           4         swój droga to miasto autor zacząć z daleki   \n",
              "...       ...                                                ...   \n",
              "38085   38218  Przedstaw podstawa wybrać utwór literacki czło...   \n",
              "38086   38219  Rozważ problem wybrać przykład literacki wizja...   \n",
              "38087   38220  Wyróżniającą cecha szamać niezależnie kultura ...   \n",
              "38088   38221  ani wiedza ani zrozumienie ani też bierny akce...   \n",
              "38089   38222  szaman zagłębia w doświadczenie życiowy przy p...   \n",
              "\n",
              "                                                etykieta  \\\n",
              "0      [O, O, O, O, O, O, O, O, O, O, O, O, O, O, O, ...   \n",
              "1                         [O, O, surname, O, settlement]   \n",
              "2         [O, O, O, surname, O, orgName, O, O, geogName]   \n",
              "3      [settlement, O, O, settlement, O, O, O, O, O, ...   \n",
              "4                               [O, O, O, O, O, O, O, O]   \n",
              "...                                                  ...   \n",
              "38085                           [O, O, O, O, O, O, O, O]   \n",
              "38086  [O, O, O, O, O, O, O, O, O, O, O, O, O, O, O, ...   \n",
              "38087                        [O, O, O, O, O, O, O, O, O]   \n",
              "38088               [O, O, O, O, O, O, O, O, O, O, O, O]   \n",
              "38089  [O, O, O, O, O, O, O, O, O, O, O, O, O, O, O, ...   \n",
              "\n",
              "                                           list_sentence  len_sentence  \\\n",
              "0      [zatrzasnąć, drzwi, mieszkanie, raz, przekręci...            35   \n",
              "1      [Bohater, powieść, paźniewskiy, miasto, krzemi...             5   \n",
              "2      [jak, za, czas, Słowacki, funkcjonować, liceum...             9   \n",
              "3      [krzemieniec, powieściowy, tamto, Krzemieńcem,...            12   \n",
              "4      [swój, droga, to, miasto, autor, zacząć, z, da...             8   \n",
              "...                                                  ...           ...   \n",
              "38085  [Przedstaw, podstawa, wybrać, utwór, literacki...             8   \n",
              "38086  [Rozważ, problem, wybrać, przykład, literacki,...           132   \n",
              "38087  [Wyróżniającą, cecha, szamać, niezależnie, kul...             9   \n",
              "38088  [ani, wiedza, ani, zrozumienie, ani, też, bier...            12   \n",
              "38089  [szaman, zagłębia, w, doświadczenie, życiowy, ...            35   \n",
              "\n",
              "       len_tag  is_equal  \n",
              "0           35      True  \n",
              "1            5      True  \n",
              "2            9      True  \n",
              "3           12      True  \n",
              "4            8      True  \n",
              "...        ...       ...  \n",
              "38085        8      True  \n",
              "38086      132      True  \n",
              "38087        9      True  \n",
              "38088       12      True  \n",
              "38089       35      True  \n",
              "\n",
              "[37436 rows x 7 columns]"
            ],
            "text/html": [
              "\n",
              "  <div id=\"df-f09a27fb-eb66-4f45-882f-7e9671f62a7c\">\n",
              "    <div class=\"colab-df-container\">\n",
              "      <div>\n",
              "<style scoped>\n",
              "    .dataframe tbody tr th:only-of-type {\n",
              "        vertical-align: middle;\n",
              "    }\n",
              "\n",
              "    .dataframe tbody tr th {\n",
              "        vertical-align: top;\n",
              "    }\n",
              "\n",
              "    .dataframe thead th {\n",
              "        text-align: right;\n",
              "    }\n",
              "</style>\n",
              "<table border=\"1\" class=\"dataframe\">\n",
              "  <thead>\n",
              "    <tr style=\"text-align: right;\">\n",
              "      <th></th>\n",
              "      <th>zdanie</th>\n",
              "      <th>forma</th>\n",
              "      <th>etykieta</th>\n",
              "      <th>list_sentence</th>\n",
              "      <th>len_sentence</th>\n",
              "      <th>len_tag</th>\n",
              "      <th>is_equal</th>\n",
              "    </tr>\n",
              "  </thead>\n",
              "  <tbody>\n",
              "    <tr>\n",
              "      <th>0</th>\n",
              "      <td>0</td>\n",
              "      <td>zatrzasnąć drzwi mieszkanie raz przekręcić klu...</td>\n",
              "      <td>[O, O, O, O, O, O, O, O, O, O, O, O, O, O, O, ...</td>\n",
              "      <td>[zatrzasnąć, drzwi, mieszkanie, raz, przekręci...</td>\n",
              "      <td>35</td>\n",
              "      <td>35</td>\n",
              "      <td>True</td>\n",
              "    </tr>\n",
              "    <tr>\n",
              "      <th>1</th>\n",
              "      <td>1</td>\n",
              "      <td>Bohater powieść paźniewskiy miasto krzemieniec</td>\n",
              "      <td>[O, O, surname, O, settlement]</td>\n",
              "      <td>[Bohater, powieść, paźniewskiy, miasto, krzemi...</td>\n",
              "      <td>5</td>\n",
              "      <td>5</td>\n",
              "      <td>True</td>\n",
              "    </tr>\n",
              "    <tr>\n",
              "      <th>2</th>\n",
              "      <td>2</td>\n",
              "      <td>jak za czas Słowacki funkcjonować liceum i pły...</td>\n",
              "      <td>[O, O, O, surname, O, orgName, O, O, geogName]</td>\n",
              "      <td>[jak, za, czas, Słowacki, funkcjonować, liceum...</td>\n",
              "      <td>9</td>\n",
              "      <td>9</td>\n",
              "      <td>True</td>\n",
              "    </tr>\n",
              "    <tr>\n",
              "      <th>3</th>\n",
              "      <td>3</td>\n",
              "      <td>krzemieniec powieściowy tamto Krzemieńcem ale ...</td>\n",
              "      <td>[settlement, O, O, settlement, O, O, O, O, O, ...</td>\n",
              "      <td>[krzemieniec, powieściowy, tamto, Krzemieńcem,...</td>\n",
              "      <td>12</td>\n",
              "      <td>12</td>\n",
              "      <td>True</td>\n",
              "    </tr>\n",
              "    <tr>\n",
              "      <th>4</th>\n",
              "      <td>4</td>\n",
              "      <td>swój droga to miasto autor zacząć z daleki</td>\n",
              "      <td>[O, O, O, O, O, O, O, O]</td>\n",
              "      <td>[swój, droga, to, miasto, autor, zacząć, z, da...</td>\n",
              "      <td>8</td>\n",
              "      <td>8</td>\n",
              "      <td>True</td>\n",
              "    </tr>\n",
              "    <tr>\n",
              "      <th>...</th>\n",
              "      <td>...</td>\n",
              "      <td>...</td>\n",
              "      <td>...</td>\n",
              "      <td>...</td>\n",
              "      <td>...</td>\n",
              "      <td>...</td>\n",
              "      <td>...</td>\n",
              "    </tr>\n",
              "    <tr>\n",
              "      <th>38085</th>\n",
              "      <td>38218</td>\n",
              "      <td>Przedstaw podstawa wybrać utwór literacki czło...</td>\n",
              "      <td>[O, O, O, O, O, O, O, O]</td>\n",
              "      <td>[Przedstaw, podstawa, wybrać, utwór, literacki...</td>\n",
              "      <td>8</td>\n",
              "      <td>8</td>\n",
              "      <td>True</td>\n",
              "    </tr>\n",
              "    <tr>\n",
              "      <th>38086</th>\n",
              "      <td>38219</td>\n",
              "      <td>Rozważ problem wybrać przykład literacki wizja...</td>\n",
              "      <td>[O, O, O, O, O, O, O, O, O, O, O, O, O, O, O, ...</td>\n",
              "      <td>[Rozważ, problem, wybrać, przykład, literacki,...</td>\n",
              "      <td>132</td>\n",
              "      <td>132</td>\n",
              "      <td>True</td>\n",
              "    </tr>\n",
              "    <tr>\n",
              "      <th>38087</th>\n",
              "      <td>38220</td>\n",
              "      <td>Wyróżniającą cecha szamać niezależnie kultura ...</td>\n",
              "      <td>[O, O, O, O, O, O, O, O, O]</td>\n",
              "      <td>[Wyróżniającą, cecha, szamać, niezależnie, kul...</td>\n",
              "      <td>9</td>\n",
              "      <td>9</td>\n",
              "      <td>True</td>\n",
              "    </tr>\n",
              "    <tr>\n",
              "      <th>38088</th>\n",
              "      <td>38221</td>\n",
              "      <td>ani wiedza ani zrozumienie ani też bierny akce...</td>\n",
              "      <td>[O, O, O, O, O, O, O, O, O, O, O, O]</td>\n",
              "      <td>[ani, wiedza, ani, zrozumienie, ani, też, bier...</td>\n",
              "      <td>12</td>\n",
              "      <td>12</td>\n",
              "      <td>True</td>\n",
              "    </tr>\n",
              "    <tr>\n",
              "      <th>38089</th>\n",
              "      <td>38222</td>\n",
              "      <td>szaman zagłębia w doświadczenie życiowy przy p...</td>\n",
              "      <td>[O, O, O, O, O, O, O, O, O, O, O, O, O, O, O, ...</td>\n",
              "      <td>[szaman, zagłębia, w, doświadczenie, życiowy, ...</td>\n",
              "      <td>35</td>\n",
              "      <td>35</td>\n",
              "      <td>True</td>\n",
              "    </tr>\n",
              "  </tbody>\n",
              "</table>\n",
              "<p>37436 rows × 7 columns</p>\n",
              "</div>\n",
              "      <button class=\"colab-df-convert\" onclick=\"convertToInteractive('df-f09a27fb-eb66-4f45-882f-7e9671f62a7c')\"\n",
              "              title=\"Convert this dataframe to an interactive table.\"\n",
              "              style=\"display:none;\">\n",
              "        \n",
              "  <svg xmlns=\"http://www.w3.org/2000/svg\" height=\"24px\"viewBox=\"0 0 24 24\"\n",
              "       width=\"24px\">\n",
              "    <path d=\"M0 0h24v24H0V0z\" fill=\"none\"/>\n",
              "    <path d=\"M18.56 5.44l.94 2.06.94-2.06 2.06-.94-2.06-.94-.94-2.06-.94 2.06-2.06.94zm-11 1L8.5 8.5l.94-2.06 2.06-.94-2.06-.94L8.5 2.5l-.94 2.06-2.06.94zm10 10l.94 2.06.94-2.06 2.06-.94-2.06-.94-.94-2.06-.94 2.06-2.06.94z\"/><path d=\"M17.41 7.96l-1.37-1.37c-.4-.4-.92-.59-1.43-.59-.52 0-1.04.2-1.43.59L10.3 9.45l-7.72 7.72c-.78.78-.78 2.05 0 2.83L4 21.41c.39.39.9.59 1.41.59.51 0 1.02-.2 1.41-.59l7.78-7.78 2.81-2.81c.8-.78.8-2.07 0-2.86zM5.41 20L4 18.59l7.72-7.72 1.47 1.35L5.41 20z\"/>\n",
              "  </svg>\n",
              "      </button>\n",
              "      \n",
              "  <style>\n",
              "    .colab-df-container {\n",
              "      display:flex;\n",
              "      flex-wrap:wrap;\n",
              "      gap: 12px;\n",
              "    }\n",
              "\n",
              "    .colab-df-convert {\n",
              "      background-color: #E8F0FE;\n",
              "      border: none;\n",
              "      border-radius: 50%;\n",
              "      cursor: pointer;\n",
              "      display: none;\n",
              "      fill: #1967D2;\n",
              "      height: 32px;\n",
              "      padding: 0 0 0 0;\n",
              "      width: 32px;\n",
              "    }\n",
              "\n",
              "    .colab-df-convert:hover {\n",
              "      background-color: #E2EBFA;\n",
              "      box-shadow: 0px 1px 2px rgba(60, 64, 67, 0.3), 0px 1px 3px 1px rgba(60, 64, 67, 0.15);\n",
              "      fill: #174EA6;\n",
              "    }\n",
              "\n",
              "    [theme=dark] .colab-df-convert {\n",
              "      background-color: #3B4455;\n",
              "      fill: #D2E3FC;\n",
              "    }\n",
              "\n",
              "    [theme=dark] .colab-df-convert:hover {\n",
              "      background-color: #434B5C;\n",
              "      box-shadow: 0px 1px 3px 1px rgba(0, 0, 0, 0.15);\n",
              "      filter: drop-shadow(0px 1px 2px rgba(0, 0, 0, 0.3));\n",
              "      fill: #FFFFFF;\n",
              "    }\n",
              "  </style>\n",
              "\n",
              "      <script>\n",
              "        const buttonEl =\n",
              "          document.querySelector('#df-f09a27fb-eb66-4f45-882f-7e9671f62a7c button.colab-df-convert');\n",
              "        buttonEl.style.display =\n",
              "          google.colab.kernel.accessAllowed ? 'block' : 'none';\n",
              "\n",
              "        async function convertToInteractive(key) {\n",
              "          const element = document.querySelector('#df-f09a27fb-eb66-4f45-882f-7e9671f62a7c');\n",
              "          const dataTable =\n",
              "            await google.colab.kernel.invokeFunction('convertToInteractive',\n",
              "                                                     [key], {});\n",
              "          if (!dataTable) return;\n",
              "\n",
              "          const docLinkHtml = 'Like what you see? Visit the ' +\n",
              "            '<a target=\"_blank\" href=https://colab.research.google.com/notebooks/data_table.ipynb>data table notebook</a>'\n",
              "            + ' to learn more about interactive tables.';\n",
              "          element.innerHTML = '';\n",
              "          dataTable['output_type'] = 'display_data';\n",
              "          await google.colab.output.renderOutput(dataTable, element);\n",
              "          const docLink = document.createElement('div');\n",
              "          docLink.innerHTML = docLinkHtml;\n",
              "          element.appendChild(docLink);\n",
              "        }\n",
              "      </script>\n",
              "    </div>\n",
              "  </div>\n",
              "  "
            ]
          },
          "metadata": {},
          "execution_count": 8
        }
      ]
    },
    {
      "cell_type": "markdown",
      "source": [
        "Przyjrzyjmy się dokładnie naszym zdaniom. W ilu zdaniach dla każego słowa występuje tylko tag `O` a w ilu jest już jakaś nazwa własna? Odpowiedź na to pytanie umożliwi nam funckja "
      ],
      "metadata": {
        "id": "QoyMvKRsYolN"
      }
    },
    {
      "cell_type": "code",
      "source": [
        "ner_tags = [\n",
        "    \"surname\",\n",
        "    \"settlement\",\n",
        "    \"orgName\",\n",
        "    \"geogName\",\n",
        "    \"addName\",\n",
        "    \"forename\",\n",
        "    \"persName\",\n",
        "    \"country\",\n",
        "    \"placeName\",\n",
        "    \"region\",\n",
        "    \"district\",\n",
        "    \"bloc\",\n",
        "    \"date\",\n",
        "    \"time\",\n",
        "]\n",
        "\n",
        "\n",
        "def check_data_diff(df, ner_tags):\n",
        "\n",
        "    idxs_ner = []\n",
        "    idxs_o = []\n",
        "    for idx, tags in df[\"etykieta\"].items():\n",
        "        if any(ner_tag in tags for ner_tag in ner_tags):\n",
        "            idxs_ner.append(idx)\n",
        "        else:\n",
        "            idxs_o.append(idx)\n",
        "\n",
        "    l_idxs_ner = len(idxs_ner)\n",
        "    l_idxs_o = len(idxs_o)\n",
        "\n",
        "    diff = l_idxs_o - l_idxs_ner\n",
        "\n",
        "    print(f\"Number of sentences with name entities {l_idxs_ner}\")\n",
        "    print(f\"Number of sentences without name entities {l_idxs_o}\")\n",
        "    print(f\"Difference is: {diff}\")\n",
        "\n",
        "\n",
        "check_data_diff(sentences_df, ner_tags)"
      ],
      "metadata": {
        "colab": {
          "base_uri": "https://localhost:8080/"
        },
        "id": "P2bHCxW6l2Pa",
        "outputId": "7fa98ef4-1c8a-4020-f972-0ae428994ec9"
      },
      "execution_count": 9,
      "outputs": [
        {
          "output_type": "stream",
          "name": "stdout",
          "text": [
            "Number of sentences with name entities 14659\n",
            "Number of sentences without name entities 22777\n",
            "Difference is: 8118\n"
          ]
        }
      ]
    },
    {
      "cell_type": "markdown",
      "source": [
        "Różnica jest spora, mamy tutaj znacznie więcej zdań w kórych nie ma nazw własnych. Spróbjemy to zrekompensować tak jak było wspomniane wcześniej i do naszego zbioru dodamy teraz zdania zawierające nazwy własne. To dobra praktyka - zależy nam na wykrywaniu dokładnie tych przypadków. Nie możemy też tutaj przesadzać dlatego pozwolimy na dodanie `4000` zduplikowanych wierszy (czyli około połowy rożnicy) "
      ],
      "metadata": {
        "id": "ClDNNJsuao4L"
      }
    },
    {
      "cell_type": "code",
      "source": [
        "def append_duplicate_ner_sentences(df, num, ner_tags):\n",
        "\n",
        "    idxs = []\n",
        "    for idx, tags in sentences_df[\"etykieta\"].items():\n",
        "        if any(ner_tag in tags for ner_tag in ner_tags):\n",
        "            idxs.append(idx)\n",
        "\n",
        "    df_to_append = df.iloc[idxs[:num]]\n",
        "    df = df.append(df_to_append)\n",
        "\n",
        "    return df\n",
        "\n",
        "\n",
        "sentences_df = append_duplicate_ner_sentences(sentences_df, 4000, ner_tags)\n",
        "sentences_df"
      ],
      "metadata": {
        "colab": {
          "base_uri": "https://localhost:8080/",
          "height": 424
        },
        "id": "Q6FL0FH6oZAP",
        "outputId": "1b5fb676-56b5-4605-f83f-79c244ecb197"
      },
      "execution_count": 10,
      "outputs": [
        {
          "output_type": "execute_result",
          "data": {
            "text/plain": [
              "       zdanie                                              forma  \\\n",
              "0           0  zatrzasnąć drzwi mieszkanie raz przekręcić klu...   \n",
              "1           1     Bohater powieść paźniewskiy miasto krzemieniec   \n",
              "2           2  jak za czas Słowacki funkcjonować liceum i pły...   \n",
              "3           3  krzemieniec powieściowy tamto Krzemieńcem ale ...   \n",
              "4           4         swój droga to miasto autor zacząć z daleki   \n",
              "...       ...                                                ...   \n",
              "10283   10311  po dotarciu miejsce praca dwa pogranicznik prz...   \n",
              "10284   10312  w czas obserwacja z tylny część dach wysuwać w...   \n",
              "10285   10313     na szczyć zamontować głowica optoelektroniczny   \n",
              "10295   10323  samochód pijany kierowca trafić opieka współma...   \n",
              "10296   10324  w to wypadek dowiedzieć śmy w prokuratura mąż ...   \n",
              "\n",
              "                                                etykieta  \\\n",
              "0      [O, O, O, O, O, O, O, O, O, O, O, O, O, O, O, ...   \n",
              "1                         [O, O, surname, O, settlement]   \n",
              "2         [O, O, O, surname, O, orgName, O, O, geogName]   \n",
              "3      [settlement, O, O, settlement, O, O, O, O, O, ...   \n",
              "4                               [O, O, O, O, O, O, O, O]   \n",
              "...                                                  ...   \n",
              "10283               [O, O, O, O, O, O, O, O, O, O, O, O]   \n",
              "10284      [O, O, O, O, O, O, O, O, O, O, O, O, O, O, O]   \n",
              "10285                                    [O, O, O, O, O]   \n",
              "10295                                 [O, O, O, O, O, O]   \n",
              "10296            [O, O, O, O, O, O, O, O, O, O, O, O, O]   \n",
              "\n",
              "                                           list_sentence  len_sentence  \\\n",
              "0      [zatrzasnąć, drzwi, mieszkanie, raz, przekręci...            35   \n",
              "1      [Bohater, powieść, paźniewskiy, miasto, krzemi...             5   \n",
              "2      [jak, za, czas, Słowacki, funkcjonować, liceum...             9   \n",
              "3      [krzemieniec, powieściowy, tamto, Krzemieńcem,...            12   \n",
              "4      [swój, droga, to, miasto, autor, zacząć, z, da...             8   \n",
              "...                                                  ...           ...   \n",
              "10283  [po, dotarciu, miejsce, praca, dwa, pograniczn...            12   \n",
              "10284  [w, czas, obserwacja, z, tylny, część, dach, w...            15   \n",
              "10285  [na, szczyć, zamontować, głowica, optoelektron...             5   \n",
              "10295  [samochód, pijany, kierowca, trafić, opieka, w...             6   \n",
              "10296  [w, to, wypadek, dowiedzieć, śmy, w, prokuratu...            13   \n",
              "\n",
              "       len_tag  is_equal  \n",
              "0           35      True  \n",
              "1            5      True  \n",
              "2            9      True  \n",
              "3           12      True  \n",
              "4            8      True  \n",
              "...        ...       ...  \n",
              "10283       12      True  \n",
              "10284       15      True  \n",
              "10285        5      True  \n",
              "10295        6      True  \n",
              "10296       13      True  \n",
              "\n",
              "[41436 rows x 7 columns]"
            ],
            "text/html": [
              "\n",
              "  <div id=\"df-f707c619-1a3b-4f52-9b2a-b08441a12487\">\n",
              "    <div class=\"colab-df-container\">\n",
              "      <div>\n",
              "<style scoped>\n",
              "    .dataframe tbody tr th:only-of-type {\n",
              "        vertical-align: middle;\n",
              "    }\n",
              "\n",
              "    .dataframe tbody tr th {\n",
              "        vertical-align: top;\n",
              "    }\n",
              "\n",
              "    .dataframe thead th {\n",
              "        text-align: right;\n",
              "    }\n",
              "</style>\n",
              "<table border=\"1\" class=\"dataframe\">\n",
              "  <thead>\n",
              "    <tr style=\"text-align: right;\">\n",
              "      <th></th>\n",
              "      <th>zdanie</th>\n",
              "      <th>forma</th>\n",
              "      <th>etykieta</th>\n",
              "      <th>list_sentence</th>\n",
              "      <th>len_sentence</th>\n",
              "      <th>len_tag</th>\n",
              "      <th>is_equal</th>\n",
              "    </tr>\n",
              "  </thead>\n",
              "  <tbody>\n",
              "    <tr>\n",
              "      <th>0</th>\n",
              "      <td>0</td>\n",
              "      <td>zatrzasnąć drzwi mieszkanie raz przekręcić klu...</td>\n",
              "      <td>[O, O, O, O, O, O, O, O, O, O, O, O, O, O, O, ...</td>\n",
              "      <td>[zatrzasnąć, drzwi, mieszkanie, raz, przekręci...</td>\n",
              "      <td>35</td>\n",
              "      <td>35</td>\n",
              "      <td>True</td>\n",
              "    </tr>\n",
              "    <tr>\n",
              "      <th>1</th>\n",
              "      <td>1</td>\n",
              "      <td>Bohater powieść paźniewskiy miasto krzemieniec</td>\n",
              "      <td>[O, O, surname, O, settlement]</td>\n",
              "      <td>[Bohater, powieść, paźniewskiy, miasto, krzemi...</td>\n",
              "      <td>5</td>\n",
              "      <td>5</td>\n",
              "      <td>True</td>\n",
              "    </tr>\n",
              "    <tr>\n",
              "      <th>2</th>\n",
              "      <td>2</td>\n",
              "      <td>jak za czas Słowacki funkcjonować liceum i pły...</td>\n",
              "      <td>[O, O, O, surname, O, orgName, O, O, geogName]</td>\n",
              "      <td>[jak, za, czas, Słowacki, funkcjonować, liceum...</td>\n",
              "      <td>9</td>\n",
              "      <td>9</td>\n",
              "      <td>True</td>\n",
              "    </tr>\n",
              "    <tr>\n",
              "      <th>3</th>\n",
              "      <td>3</td>\n",
              "      <td>krzemieniec powieściowy tamto Krzemieńcem ale ...</td>\n",
              "      <td>[settlement, O, O, settlement, O, O, O, O, O, ...</td>\n",
              "      <td>[krzemieniec, powieściowy, tamto, Krzemieńcem,...</td>\n",
              "      <td>12</td>\n",
              "      <td>12</td>\n",
              "      <td>True</td>\n",
              "    </tr>\n",
              "    <tr>\n",
              "      <th>4</th>\n",
              "      <td>4</td>\n",
              "      <td>swój droga to miasto autor zacząć z daleki</td>\n",
              "      <td>[O, O, O, O, O, O, O, O]</td>\n",
              "      <td>[swój, droga, to, miasto, autor, zacząć, z, da...</td>\n",
              "      <td>8</td>\n",
              "      <td>8</td>\n",
              "      <td>True</td>\n",
              "    </tr>\n",
              "    <tr>\n",
              "      <th>...</th>\n",
              "      <td>...</td>\n",
              "      <td>...</td>\n",
              "      <td>...</td>\n",
              "      <td>...</td>\n",
              "      <td>...</td>\n",
              "      <td>...</td>\n",
              "      <td>...</td>\n",
              "    </tr>\n",
              "    <tr>\n",
              "      <th>10283</th>\n",
              "      <td>10311</td>\n",
              "      <td>po dotarciu miejsce praca dwa pogranicznik prz...</td>\n",
              "      <td>[O, O, O, O, O, O, O, O, O, O, O, O]</td>\n",
              "      <td>[po, dotarciu, miejsce, praca, dwa, pograniczn...</td>\n",
              "      <td>12</td>\n",
              "      <td>12</td>\n",
              "      <td>True</td>\n",
              "    </tr>\n",
              "    <tr>\n",
              "      <th>10284</th>\n",
              "      <td>10312</td>\n",
              "      <td>w czas obserwacja z tylny część dach wysuwać w...</td>\n",
              "      <td>[O, O, O, O, O, O, O, O, O, O, O, O, O, O, O]</td>\n",
              "      <td>[w, czas, obserwacja, z, tylny, część, dach, w...</td>\n",
              "      <td>15</td>\n",
              "      <td>15</td>\n",
              "      <td>True</td>\n",
              "    </tr>\n",
              "    <tr>\n",
              "      <th>10285</th>\n",
              "      <td>10313</td>\n",
              "      <td>na szczyć zamontować głowica optoelektroniczny</td>\n",
              "      <td>[O, O, O, O, O]</td>\n",
              "      <td>[na, szczyć, zamontować, głowica, optoelektron...</td>\n",
              "      <td>5</td>\n",
              "      <td>5</td>\n",
              "      <td>True</td>\n",
              "    </tr>\n",
              "    <tr>\n",
              "      <th>10295</th>\n",
              "      <td>10323</td>\n",
              "      <td>samochód pijany kierowca trafić opieka współma...</td>\n",
              "      <td>[O, O, O, O, O, O]</td>\n",
              "      <td>[samochód, pijany, kierowca, trafić, opieka, w...</td>\n",
              "      <td>6</td>\n",
              "      <td>6</td>\n",
              "      <td>True</td>\n",
              "    </tr>\n",
              "    <tr>\n",
              "      <th>10296</th>\n",
              "      <td>10324</td>\n",
              "      <td>w to wypadek dowiedzieć śmy w prokuratura mąż ...</td>\n",
              "      <td>[O, O, O, O, O, O, O, O, O, O, O, O, O]</td>\n",
              "      <td>[w, to, wypadek, dowiedzieć, śmy, w, prokuratu...</td>\n",
              "      <td>13</td>\n",
              "      <td>13</td>\n",
              "      <td>True</td>\n",
              "    </tr>\n",
              "  </tbody>\n",
              "</table>\n",
              "<p>41436 rows × 7 columns</p>\n",
              "</div>\n",
              "      <button class=\"colab-df-convert\" onclick=\"convertToInteractive('df-f707c619-1a3b-4f52-9b2a-b08441a12487')\"\n",
              "              title=\"Convert this dataframe to an interactive table.\"\n",
              "              style=\"display:none;\">\n",
              "        \n",
              "  <svg xmlns=\"http://www.w3.org/2000/svg\" height=\"24px\"viewBox=\"0 0 24 24\"\n",
              "       width=\"24px\">\n",
              "    <path d=\"M0 0h24v24H0V0z\" fill=\"none\"/>\n",
              "    <path d=\"M18.56 5.44l.94 2.06.94-2.06 2.06-.94-2.06-.94-.94-2.06-.94 2.06-2.06.94zm-11 1L8.5 8.5l.94-2.06 2.06-.94-2.06-.94L8.5 2.5l-.94 2.06-2.06.94zm10 10l.94 2.06.94-2.06 2.06-.94-2.06-.94-.94-2.06-.94 2.06-2.06.94z\"/><path d=\"M17.41 7.96l-1.37-1.37c-.4-.4-.92-.59-1.43-.59-.52 0-1.04.2-1.43.59L10.3 9.45l-7.72 7.72c-.78.78-.78 2.05 0 2.83L4 21.41c.39.39.9.59 1.41.59.51 0 1.02-.2 1.41-.59l7.78-7.78 2.81-2.81c.8-.78.8-2.07 0-2.86zM5.41 20L4 18.59l7.72-7.72 1.47 1.35L5.41 20z\"/>\n",
              "  </svg>\n",
              "      </button>\n",
              "      \n",
              "  <style>\n",
              "    .colab-df-container {\n",
              "      display:flex;\n",
              "      flex-wrap:wrap;\n",
              "      gap: 12px;\n",
              "    }\n",
              "\n",
              "    .colab-df-convert {\n",
              "      background-color: #E8F0FE;\n",
              "      border: none;\n",
              "      border-radius: 50%;\n",
              "      cursor: pointer;\n",
              "      display: none;\n",
              "      fill: #1967D2;\n",
              "      height: 32px;\n",
              "      padding: 0 0 0 0;\n",
              "      width: 32px;\n",
              "    }\n",
              "\n",
              "    .colab-df-convert:hover {\n",
              "      background-color: #E2EBFA;\n",
              "      box-shadow: 0px 1px 2px rgba(60, 64, 67, 0.3), 0px 1px 3px 1px rgba(60, 64, 67, 0.15);\n",
              "      fill: #174EA6;\n",
              "    }\n",
              "\n",
              "    [theme=dark] .colab-df-convert {\n",
              "      background-color: #3B4455;\n",
              "      fill: #D2E3FC;\n",
              "    }\n",
              "\n",
              "    [theme=dark] .colab-df-convert:hover {\n",
              "      background-color: #434B5C;\n",
              "      box-shadow: 0px 1px 3px 1px rgba(0, 0, 0, 0.15);\n",
              "      filter: drop-shadow(0px 1px 2px rgba(0, 0, 0, 0.3));\n",
              "      fill: #FFFFFF;\n",
              "    }\n",
              "  </style>\n",
              "\n",
              "      <script>\n",
              "        const buttonEl =\n",
              "          document.querySelector('#df-f707c619-1a3b-4f52-9b2a-b08441a12487 button.colab-df-convert');\n",
              "        buttonEl.style.display =\n",
              "          google.colab.kernel.accessAllowed ? 'block' : 'none';\n",
              "\n",
              "        async function convertToInteractive(key) {\n",
              "          const element = document.querySelector('#df-f707c619-1a3b-4f52-9b2a-b08441a12487');\n",
              "          const dataTable =\n",
              "            await google.colab.kernel.invokeFunction('convertToInteractive',\n",
              "                                                     [key], {});\n",
              "          if (!dataTable) return;\n",
              "\n",
              "          const docLinkHtml = 'Like what you see? Visit the ' +\n",
              "            '<a target=\"_blank\" href=https://colab.research.google.com/notebooks/data_table.ipynb>data table notebook</a>'\n",
              "            + ' to learn more about interactive tables.';\n",
              "          element.innerHTML = '';\n",
              "          dataTable['output_type'] = 'display_data';\n",
              "          await google.colab.output.renderOutput(dataTable, element);\n",
              "          const docLink = document.createElement('div');\n",
              "          docLink.innerHTML = docLinkHtml;\n",
              "          element.appendChild(docLink);\n",
              "        }\n",
              "      </script>\n",
              "    </div>\n",
              "  </div>\n",
              "  "
            ]
          },
          "metadata": {},
          "execution_count": 10
        }
      ]
    },
    {
      "cell_type": "code",
      "source": [
        "sentences_df[['len_sentence']].plot.hist(bins=250, xlim=(0,55), title='Lenght of sentences histogram')"
      ],
      "metadata": {
        "colab": {
          "base_uri": "https://localhost:8080/",
          "height": 298
        },
        "id": "g2xSv9ygdOpI",
        "outputId": "4dacef81-d6b0-49ba-ccfb-16664f06c860"
      },
      "execution_count": 11,
      "outputs": [
        {
          "output_type": "execute_result",
          "data": {
            "text/plain": [
              "<matplotlib.axes._subplots.AxesSubplot at 0x7f0eff49a0d0>"
            ]
          },
          "metadata": {},
          "execution_count": 11
        },
        {
          "output_type": "display_data",
          "data": {
            "text/plain": [
              "<Figure size 432x288 with 1 Axes>"
            ],
            "image/png": "[encoded data removed]"
          },
          "metadata": {
            "needs_background": "light"
          }
        }
      ]
    },
    {
      "cell_type": "code",
      "source": [
        "sentences_df['len_sentence'].nlargest(5)"
      ],
      "metadata": {
        "colab": {
          "base_uri": "https://localhost:8080/"
        },
        "id": "J0-vD4gPSk9D",
        "outputId": "a55ed889-9a75-420c-c028-a1c2d6882cc6"
      },
      "execution_count": 12,
      "outputs": [
        {
          "output_type": "execute_result",
          "data": {
            "text/plain": [
              "26455    305\n",
              "28042    165\n",
              "25102    148\n",
              "30902    135\n",
              "38086    132\n",
              "Name: len_sentence, dtype: int64"
            ]
          },
          "metadata": {},
          "execution_count": 12
        }
      ]
    },
    {
      "cell_type": "markdown",
      "source": [
        "Spoglądając na histogram powyżej możemy zauważyć, że większość zdań w naszym zbiorze to zdania stosunkowo krótkie – składające się najczęściej z 7-8 słów. Możemy też zaobserwować, że praktycznie większość zdań mieści się w zakresie do 50-55 słów. Natomiast patrząc na komórkę poniżej wykresu – aktualnie najdłuższym zdaniem jest wyrażenie składające się z 305 słów, później drugie składa się już z 165 a więc prawie dwa razy mniej. \n",
        "\n",
        "To dość ważna dla nas kwestia aby zdecydować jak maksymalnie długie zdanie będzie w naszym zbiorze, ponieważ to określi nam kształt próbki treningowej na wejściu do naszego modelu (czyli zdanie „stokeniozowane” w formie macierzy). Każda próbka, nawet jak będzie krótkim zdaniem będzie musiała mieć taki sam kształt. Większy kształt wydłuży nam czas treningu, a brakujące słowa zostaną potraktowane jako tag „O”. Zależy nam aby bardziej wykrywać tagi z nazwami własnymi, dlatego usuniemy najdłuższe zdanie z naszego zbioru i w ten sposób przyjmiemy maksymalna długość zdania jako `165`.\n"
      ],
      "metadata": {
        "id": "TIqA83YrpMI0"
      }
    },
    {
      "cell_type": "code",
      "source": [
        "sentences_df = sentences_df[sentences_df['len_sentence'] != 305]\n",
        "sentences_df[sentences_df['len_sentence'] == 305]"
      ],
      "metadata": {
        "colab": {
          "base_uri": "https://localhost:8080/",
          "height": 49
        },
        "id": "B9prqRNsoqw6",
        "outputId": "bce56a9a-3e1d-41e4-ccf5-70c8536355bb"
      },
      "execution_count": 13,
      "outputs": [
        {
          "output_type": "execute_result",
          "data": {
            "text/plain": [
              "Empty DataFrame\n",
              "Columns: [zdanie, forma, etykieta, list_sentence, len_sentence, len_tag, is_equal]\n",
              "Index: []"
            ],
            "text/html": [
              "\n",
              "  <div id=\"df-3e075d81-9192-4a2f-96cf-ac723a6a56de\">\n",
              "    <div class=\"colab-df-container\">\n",
              "      <div>\n",
              "<style scoped>\n",
              "    .dataframe tbody tr th:only-of-type {\n",
              "        vertical-align: middle;\n",
              "    }\n",
              "\n",
              "    .dataframe tbody tr th {\n",
              "        vertical-align: top;\n",
              "    }\n",
              "\n",
              "    .dataframe thead th {\n",
              "        text-align: right;\n",
              "    }\n",
              "</style>\n",
              "<table border=\"1\" class=\"dataframe\">\n",
              "  <thead>\n",
              "    <tr style=\"text-align: right;\">\n",
              "      <th></th>\n",
              "      <th>zdanie</th>\n",
              "      <th>forma</th>\n",
              "      <th>etykieta</th>\n",
              "      <th>list_sentence</th>\n",
              "      <th>len_sentence</th>\n",
              "      <th>len_tag</th>\n",
              "      <th>is_equal</th>\n",
              "    </tr>\n",
              "  </thead>\n",
              "  <tbody>\n",
              "  </tbody>\n",
              "</table>\n",
              "</div>\n",
              "      <button class=\"colab-df-convert\" onclick=\"convertToInteractive('df-3e075d81-9192-4a2f-96cf-ac723a6a56de')\"\n",
              "              title=\"Convert this dataframe to an interactive table.\"\n",
              "              style=\"display:none;\">\n",
              "        \n",
              "  <svg xmlns=\"http://www.w3.org/2000/svg\" height=\"24px\"viewBox=\"0 0 24 24\"\n",
              "       width=\"24px\">\n",
              "    <path d=\"M0 0h24v24H0V0z\" fill=\"none\"/>\n",
              "    <path d=\"M18.56 5.44l.94 2.06.94-2.06 2.06-.94-2.06-.94-.94-2.06-.94 2.06-2.06.94zm-11 1L8.5 8.5l.94-2.06 2.06-.94-2.06-.94L8.5 2.5l-.94 2.06-2.06.94zm10 10l.94 2.06.94-2.06 2.06-.94-2.06-.94-.94-2.06-.94 2.06-2.06.94z\"/><path d=\"M17.41 7.96l-1.37-1.37c-.4-.4-.92-.59-1.43-.59-.52 0-1.04.2-1.43.59L10.3 9.45l-7.72 7.72c-.78.78-.78 2.05 0 2.83L4 21.41c.39.39.9.59 1.41.59.51 0 1.02-.2 1.41-.59l7.78-7.78 2.81-2.81c.8-.78.8-2.07 0-2.86zM5.41 20L4 18.59l7.72-7.72 1.47 1.35L5.41 20z\"/>\n",
              "  </svg>\n",
              "      </button>\n",
              "      \n",
              "  <style>\n",
              "    .colab-df-container {\n",
              "      display:flex;\n",
              "      flex-wrap:wrap;\n",
              "      gap: 12px;\n",
              "    }\n",
              "\n",
              "    .colab-df-convert {\n",
              "      background-color: #E8F0FE;\n",
              "      border: none;\n",
              "      border-radius: 50%;\n",
              "      cursor: pointer;\n",
              "      display: none;\n",
              "      fill: #1967D2;\n",
              "      height: 32px;\n",
              "      padding: 0 0 0 0;\n",
              "      width: 32px;\n",
              "    }\n",
              "\n",
              "    .colab-df-convert:hover {\n",
              "      background-color: #E2EBFA;\n",
              "      box-shadow: 0px 1px 2px rgba(60, 64, 67, 0.3), 0px 1px 3px 1px rgba(60, 64, 67, 0.15);\n",
              "      fill: #174EA6;\n",
              "    }\n",
              "\n",
              "    [theme=dark] .colab-df-convert {\n",
              "      background-color: #3B4455;\n",
              "      fill: #D2E3FC;\n",
              "    }\n",
              "\n",
              "    [theme=dark] .colab-df-convert:hover {\n",
              "      background-color: #434B5C;\n",
              "      box-shadow: 0px 1px 3px 1px rgba(0, 0, 0, 0.15);\n",
              "      filter: drop-shadow(0px 1px 2px rgba(0, 0, 0, 0.3));\n",
              "      fill: #FFFFFF;\n",
              "    }\n",
              "  </style>\n",
              "\n",
              "      <script>\n",
              "        const buttonEl =\n",
              "          document.querySelector('#df-3e075d81-9192-4a2f-96cf-ac723a6a56de button.colab-df-convert');\n",
              "        buttonEl.style.display =\n",
              "          google.colab.kernel.accessAllowed ? 'block' : 'none';\n",
              "\n",
              "        async function convertToInteractive(key) {\n",
              "          const element = document.querySelector('#df-3e075d81-9192-4a2f-96cf-ac723a6a56de');\n",
              "          const dataTable =\n",
              "            await google.colab.kernel.invokeFunction('convertToInteractive',\n",
              "                                                     [key], {});\n",
              "          if (!dataTable) return;\n",
              "\n",
              "          const docLinkHtml = 'Like what you see? Visit the ' +\n",
              "            '<a target=\"_blank\" href=https://colab.research.google.com/notebooks/data_table.ipynb>data table notebook</a>'\n",
              "            + ' to learn more about interactive tables.';\n",
              "          element.innerHTML = '';\n",
              "          dataTable['output_type'] = 'display_data';\n",
              "          await google.colab.output.renderOutput(dataTable, element);\n",
              "          const docLink = document.createElement('div');\n",
              "          docLink.innerHTML = docLinkHtml;\n",
              "          element.appendChild(docLink);\n",
              "        }\n",
              "      </script>\n",
              "    </div>\n",
              "  </div>\n",
              "  "
            ]
          },
          "metadata": {},
          "execution_count": 13
        }
      ]
    },
    {
      "cell_type": "code",
      "source": [
        "sentences_list = sentences_df['forma'].to_list()\n",
        "tags_list = sentences_df['etykieta'].to_list()"
      ],
      "metadata": {
        "id": "PRLg1uMDqMte"
      },
      "execution_count": 14,
      "outputs": []
    },
    {
      "cell_type": "code",
      "source": [
        "#example sentence:\n",
        "print(sentences_list[12])\n",
        "print(tags_list[12])"
      ],
      "metadata": {
        "colab": {
          "base_uri": "https://localhost:8080/"
        },
        "id": "hIe9WjBgrdPd",
        "outputId": "6d0333bc-af7c-409c-95c5-f052e1efba84"
      },
      "execution_count": 15,
      "outputs": [
        {
          "output_type": "stream",
          "name": "stdout",
          "text": [
            "Halina Auderska wszyscy książka kazać swój bohater szukać tożsamość\n",
            "['forename', 'surname', 'O', 'O', 'O', 'O', 'O', 'O', 'O']\n"
          ]
        }
      ]
    },
    {
      "cell_type": "markdown",
      "source": [
        "Dokonamy teraz tokenizacji każdego zdania. Umożliwia nam to klasa `Tokenizer` w biblibotece tensorflow."
      ],
      "metadata": {
        "id": "Bqf_To4TsXzn"
      }
    },
    {
      "cell_type": "code",
      "source": [
        "tokeniser= tf.keras.preprocessing.text.Tokenizer(lower=False,filters='')\n",
        "\n",
        "tokeniser.fit_on_texts(sentences_list)\n",
        "\n",
        "encoded_sentence=tokeniser.texts_to_sequences(sentences_list)"
      ],
      "metadata": {
        "id": "Vf42nCj9rwx1"
      },
      "execution_count": 16,
      "outputs": []
    },
    {
      "cell_type": "code",
      "source": [
        "tags = [\n",
        "    \"surname\",\n",
        "    \"settlement\",\n",
        "    \"orgName\",\n",
        "    \"geogName\",\n",
        "    \"addName\",\n",
        "    \"forename\",\n",
        "    \"persName\",\n",
        "    \"country\",\n",
        "    \"placeName\",\n",
        "    \"region\",\n",
        "    \"district\",\n",
        "    \"bloc\",\n",
        "    \"O\",\n",
        "    \"date\",\n",
        "    \"time\",\n",
        "]\n",
        "\n",
        "num_tags = len(tags)\n",
        "\n",
        "\n",
        "tags_map = {tag: i for i, tag in enumerate(tags)}\n",
        "print(\"Number of Tags \", num_tags)"
      ],
      "metadata": {
        "colab": {
          "base_uri": "https://localhost:8080/"
        },
        "id": "bIbQj6KOsQkU",
        "outputId": "36fad6b9-15a6-4a04-9602-3d09ba4c9633"
      },
      "execution_count": 17,
      "outputs": [
        {
          "output_type": "stream",
          "name": "stdout",
          "text": [
            "Number of Tags  15\n"
          ]
        }
      ]
    },
    {
      "cell_type": "code",
      "source": [
        "reverse_tag_map={v: k for k, v in tags_map.items()}\n",
        "reverse_tag_map"
      ],
      "metadata": {
        "id": "jR__zMFutYn8",
        "colab": {
          "base_uri": "https://localhost:8080/"
        },
        "outputId": "452a4621-334a-4940-a860-e697edb00601"
      },
      "execution_count": 18,
      "outputs": [
        {
          "output_type": "execute_result",
          "data": {
            "text/plain": [
              "{0: 'surname',\n",
              " 1: 'settlement',\n",
              " 2: 'orgName',\n",
              " 3: 'geogName',\n",
              " 4: 'addName',\n",
              " 5: 'forename',\n",
              " 6: 'persName',\n",
              " 7: 'country',\n",
              " 8: 'placeName',\n",
              " 9: 'region',\n",
              " 10: 'district',\n",
              " 11: 'bloc',\n",
              " 12: 'O',\n",
              " 13: 'date',\n",
              " 14: 'time'}"
            ]
          },
          "metadata": {},
          "execution_count": 18
        }
      ]
    },
    {
      "cell_type": "code",
      "source": [
        "encoded_tags=[[tags_map[w] for w in tag] for tag in tags_list]"
      ],
      "metadata": {
        "id": "HP2BAdWxtj8b"
      },
      "execution_count": 19,
      "outputs": []
    },
    {
      "cell_type": "markdown",
      "source": [
        "Aby nasz trening był możliwy, muismy zrobić to o czym był już wspomniane - czyli każda nasza próbka danych musi mieć taki sam kształt:"
      ],
      "metadata": {
        "id": "7mC85SyUtHrf"
      }
    },
    {
      "cell_type": "code",
      "source": [
        "max_len=165\n",
        "\n",
        "padded_encoded_sentences=pad_sequences(maxlen=max_len,sequences=encoded_sentence,padding=\"post\",value=0)\n",
        "padded_encoded_tags=pad_sequences(maxlen=max_len,sequences=encoded_tags,padding=\"post\",value=tags_map['O'])"
      ],
      "metadata": {
        "id": "O_elbeqjuMaj"
      },
      "execution_count": 20,
      "outputs": []
    },
    {
      "cell_type": "code",
      "source": [
        "target = [to_categorical(i,num_classes = num_tags) for i in  padded_encoded_tags]"
      ],
      "metadata": {
        "id": "WtdTRxrjuPvD"
      },
      "execution_count": 21,
      "outputs": []
    },
    {
      "cell_type": "markdown",
      "source": [
        "Nasz dane są już przygotowane, możemy je teraz podzielić. Zgodnie z założeniem w zdaniu dzielimy je odpowiednio na ⁉\n",
        "\n",
        "* dane treningowe `50%`\n",
        "* dane walidacyjne `30%`\n",
        "* dane testowe `20%`"
      ],
      "metadata": {
        "id": "sKvDi8_htWzf"
      }
    },
    {
      "cell_type": "code",
      "source": [
        "train_ratio = 0.5\n",
        "validation_ratio = 0.3\n",
        "test_ratio = 0.2\n",
        "\n",
        "x_train, x_test, y_train, y_test = train_test_split(\n",
        "    padded_encoded_sentences, target, test_size=1 - train_ratio, random_state=42\n",
        ")\n",
        "\n",
        "x_val, x_test, y_val, y_test = train_test_split(\n",
        "    x_test,\n",
        "    y_test,\n",
        "    test_size=test_ratio / (test_ratio + validation_ratio),\n",
        "    random_state=42,\n",
        ")"
      ],
      "metadata": {
        "id": "Jy60vsFaZ5bz"
      },
      "execution_count": 22,
      "outputs": []
    },
    {
      "cell_type": "code",
      "source": [
        "print(\"Shape of First Sentence -Train\",x_train[0].shape)\n",
        "print(\"Shape of First Sentence Label  -Train\",y_train[0].shape)"
      ],
      "metadata": {
        "colab": {
          "base_uri": "https://localhost:8080/"
        },
        "id": "RJj9c4UNucvq",
        "outputId": "f6244fa8-3e1d-4f01-e90a-7bcc08ede803"
      },
      "execution_count": 23,
      "outputs": [
        {
          "output_type": "stream",
          "name": "stdout",
          "text": [
            "Shape of First Sentence -Train (165,)\n",
            "Shape of First Sentence Label  -Train (165, 15)\n"
          ]
        }
      ]
    },
    {
      "cell_type": "markdown",
      "source": [
        "# Trening\n",
        "\n",
        "Przechodzimy do przygotowania modeli. Wykorzystujemy sieci neuronowe i bibliotekę `Keras`. Inspiracja do modeli składających się z takich warstw została zaczerpnięta z różnych tutoriali. W pierwszym kroku użujemy gotowych ustawień. Następnie spóbujemy zmodyfikować nieco parametry naszej sieci. Zobaczmy jak wygląda nasza bazowa sieć:"
      ],
      "metadata": {
        "id": "j3_SHb5auJmH"
      }
    },
    {
      "cell_type": "markdown",
      "source": [
        "## model"
      ],
      "metadata": {
        "id": "r5uZTUPhBZZ0"
      }
    },
    {
      "cell_type": "code",
      "source": [
        "embedding_dim = 165\n",
        "vocab_size = len(tokeniser.word_index) + 1\n",
        "lstm_units = 165\n",
        "max_len = 165\n",
        "\n",
        "input_word = Input(shape=(max_len,))\n",
        "model = Embedding(\n",
        "    input_dim=vocab_size + 1, output_dim=embedding_dim, input_length=max_len\n",
        ")(input_word)\n",
        "\n",
        "model = LSTM(units=lstm_units, return_sequences=True)(model)\n",
        "out = TimeDistributed(Dense(num_tags, activation=\"softmax\"))(model)\n",
        "model = Model(input_word, out)\n",
        "model.summary()"
      ],
      "metadata": {
        "colab": {
          "base_uri": "https://localhost:8080/"
        },
        "id": "OVYlkGJgvP7U",
        "outputId": "627369cc-8ff2-4eea-a9d8-675babecc2e9"
      },
      "execution_count": 24,
      "outputs": [
        {
          "output_type": "stream",
          "name": "stdout",
          "text": [
            "Model: \"model\"\n",
            "_________________________________________________________________\n",
            " Layer (type)                Output Shape              Param #   \n",
            "=================================================================\n",
            " input_1 (InputLayer)        [(None, 165)]             0         \n",
            "                                                                 \n",
            " embedding (Embedding)       (None, 165, 165)          8420940   \n",
            "                                                                 \n",
            " lstm (LSTM)                 (None, 165, 165)          218460    \n",
            "                                                                 \n",
            " time_distributed (TimeDistr  (None, 165, 15)          2490      \n",
            " ibuted)                                                         \n",
            "                                                                 \n",
            "=================================================================\n",
            "Total params: 8,641,890\n",
            "Trainable params: 8,641,890\n",
            "Non-trainable params: 0\n",
            "_________________________________________________________________\n"
          ]
        }
      ]
    },
    {
      "cell_type": "code",
      "source": [
        "model.compile(optimizer=\"adam\", loss=\"categorical_crossentropy\", metrics=[\"accuracy\"])\n",
        "\n",
        "history = model.fit(\n",
        "    x_train,\n",
        "    np.array(y_train),\n",
        "    validation_data=(x_val, np.array(y_val)),\n",
        "    batch_size=32,\n",
        "    epochs=8,\n",
        ")"
      ],
      "metadata": {
        "colab": {
          "base_uri": "https://localhost:8080/"
        },
        "id": "vHNNr1VbveM9",
        "outputId": "72c33b6a-4ee3-442a-c19f-9367a3082929"
      },
      "execution_count": 27,
      "outputs": [
        {
          "output_type": "stream",
          "name": "stdout",
          "text": [
            "Epoch 1/8\n",
            "648/648 [==============================] - 19s 21ms/step - loss: 0.0630 - accuracy: 0.9935 - val_loss: 0.0205 - val_accuracy: 0.9955\n",
            "Epoch 2/8\n",
            "648/648 [==============================] - 14s 21ms/step - loss: 0.0148 - accuracy: 0.9961 - val_loss: 0.0171 - val_accuracy: 0.9961\n",
            "Epoch 3/8\n",
            "648/648 [==============================] - 13s 20ms/step - loss: 0.0108 - accuracy: 0.9971 - val_loss: 0.0159 - val_accuracy: 0.9966\n",
            "Epoch 4/8\n",
            "648/648 [==============================] - 13s 20ms/step - loss: 0.0079 - accuracy: 0.9980 - val_loss: 0.0161 - val_accuracy: 0.9956\n",
            "Epoch 5/8\n",
            "648/648 [==============================] - 11s 17ms/step - loss: 0.0051 - accuracy: 0.9987 - val_loss: 0.0137 - val_accuracy: 0.9970\n",
            "Epoch 6/8\n",
            "648/648 [==============================] - 11s 17ms/step - loss: 0.0036 - accuracy: 0.9990 - val_loss: 0.0131 - val_accuracy: 0.9972\n",
            "Epoch 7/8\n",
            "648/648 [==============================] - 11s 17ms/step - loss: 0.0027 - accuracy: 0.9992 - val_loss: 0.0129 - val_accuracy: 0.9973\n",
            "Epoch 8/8\n",
            "648/648 [==============================] - 12s 18ms/step - loss: 0.0021 - accuracy: 0.9994 - val_loss: 0.0136 - val_accuracy: 0.9973\n"
          ]
        }
      ]
    },
    {
      "cell_type": "markdown",
      "source": [
        "Zakończyliśmy trening w 8 epoce z powodu rosnącej funkcji straty od 7 epoki w zbiorze walidacyjnym. Trening wyglądał poprawnie, accuracy na danych treningowych i walidacyjnych ciągle rosło, funkcja straty malała. \n",
        "\n",
        "Zmodyfikujemy powyższą sieć i sprawdzimy jak sobie poradzi:"
      ],
      "metadata": {
        "id": "RoHYvaoPxVsD"
      }
    },
    {
      "cell_type": "markdown",
      "source": [
        "## model_1"
      ],
      "metadata": {
        "id": "yeDg6hQMBVOe"
      }
    },
    {
      "cell_type": "code",
      "source": [
        "embedding_dim = 300\n",
        "vocab_size = len(tokeniser.word_index) + 1\n",
        "lstm_units = 550\n",
        "max_len = 165\n",
        "\n",
        "input_word = Input(shape=(max_len,))\n",
        "model_1 = Embedding(\n",
        "    input_dim=vocab_size + 1, output_dim=embedding_dim, input_length=max_len\n",
        ")(input_word)\n",
        "\n",
        "model_1 = LSTM(units=550, return_sequences=True, dropout=0.5)(model_1)\n",
        "out = TimeDistributed(Dense(num_tags, activation=\"softmax\"))(model_1)\n",
        "model_1 = Model(input_word, out)\n",
        "model_1.summary()"
      ],
      "metadata": {
        "colab": {
          "base_uri": "https://localhost:8080/"
        },
        "id": "-nroUdXPukcE",
        "outputId": "e28b680f-086b-4dd6-e1be-60ca308b8c25"
      },
      "execution_count": 25,
      "outputs": [
        {
          "output_type": "stream",
          "name": "stdout",
          "text": [
            "Model: \"model_1\"\n",
            "_________________________________________________________________\n",
            " Layer (type)                Output Shape              Param #   \n",
            "=================================================================\n",
            " input_2 (InputLayer)        [(None, 165)]             0         \n",
            "                                                                 \n",
            " embedding_1 (Embedding)     (None, 165, 300)          15310800  \n",
            "                                                                 \n",
            " lstm_1 (LSTM)               (None, 165, 550)          1872200   \n",
            "                                                                 \n",
            " time_distributed_1 (TimeDis  (None, 165, 15)          8265      \n",
            " tributed)                                                       \n",
            "                                                                 \n",
            "=================================================================\n",
            "Total params: 17,191,265\n",
            "Trainable params: 17,191,265\n",
            "Non-trainable params: 0\n",
            "_________________________________________________________________\n"
          ]
        }
      ]
    },
    {
      "cell_type": "code",
      "source": [
        "model_1.compile(optimizer = 'adam', loss = 'categorical_crossentropy',metrics = ['accuracy'])\n",
        "\n",
        "history_1 = model_1.fit(x_train,np.array(y_train),validation_data=(x_val,np.array(y_val)),batch_size = 32,epochs = 8)"
      ],
      "metadata": {
        "colab": {
          "base_uri": "https://localhost:8080/"
        },
        "id": "fbu0BTSguqhL",
        "outputId": "d2e8dfa0-74a9-43c9-a2e5-d66706c118fd"
      },
      "execution_count": 32,
      "outputs": [
        {
          "output_type": "stream",
          "name": "stdout",
          "text": [
            "Epoch 1/8\n",
            "648/648 [==============================] - 34s 49ms/step - loss: 0.0551 - accuracy: 0.9932 - val_loss: 0.0225 - val_accuracy: 0.9953\n",
            "Epoch 2/8\n",
            "648/648 [==============================] - 31s 48ms/step - loss: 0.0146 - accuracy: 0.9963 - val_loss: 0.0155 - val_accuracy: 0.9964\n",
            "Epoch 3/8\n",
            "648/648 [==============================] - 31s 48ms/step - loss: 0.0093 - accuracy: 0.9974 - val_loss: 0.0135 - val_accuracy: 0.9971\n",
            "Epoch 4/8\n",
            "648/648 [==============================] - 31s 48ms/step - loss: 0.0062 - accuracy: 0.9983 - val_loss: 0.0124 - val_accuracy: 0.9973\n",
            "Epoch 5/8\n",
            "648/648 [==============================] - 31s 48ms/step - loss: 0.0042 - accuracy: 0.9989 - val_loss: 0.0122 - val_accuracy: 0.9971\n",
            "Epoch 6/8\n",
            "648/648 [==============================] - 32s 50ms/step - loss: 0.0030 - accuracy: 0.9992 - val_loss: 0.0118 - val_accuracy: 0.9977\n",
            "Epoch 7/8\n",
            "648/648 [==============================] - 31s 48ms/step - loss: 0.0023 - accuracy: 0.9994 - val_loss: 0.0121 - val_accuracy: 0.9977\n",
            "Epoch 8/8\n",
            "648/648 [==============================] - 31s 48ms/step - loss: 0.0018 - accuracy: 0.9995 - val_loss: 0.0124 - val_accuracy: 0.9976\n"
          ]
        }
      ]
    },
    {
      "cell_type": "markdown",
      "source": [
        "Zmodyfikowaliśmy warstwę LSTM, a w niej:\n",
        "\n",
        "* zwiększyliśmy liczbę jednostek w parametrze `units` do `550`\n",
        "* dodaliśmy parametr `dropout` ustawiony na `0.5`\n",
        "\n",
        "Na pierwszy rzut oka udało się nam osiągnąć nieco lepsze wyniki, jedank zweryfikujemy to na końcu."
      ],
      "metadata": {
        "id": "VE1EFBMSyCES"
      }
    },
    {
      "cell_type": "code",
      "source": [
        "def plot_trenning_results(model_name, model_history):\n",
        "    plt.plot(model_history.history[\"accuracy\"])\n",
        "    plt.plot(model_history.history[\"val_accuracy\"])\n",
        "    plt.title(f\"{model_name} accuracy\")\n",
        "    plt.ylabel(\"accuracy\")\n",
        "    plt.xlabel(\"epoch\")\n",
        "    plt.legend([\"train\", \"val\"], loc=\"upper left\")\n",
        "    plt.show()\n",
        "\n",
        "    plt.plot(model_history.history[\"loss\"])\n",
        "    plt.plot(model_history.history[\"val_loss\"])\n",
        "    plt.title(f\"{model_name} loss\")\n",
        "    plt.ylabel(\"loss\")\n",
        "    plt.xlabel(\"epoch\")\n",
        "    plt.legend([\"train\", \"val\"], loc=\"upper left\")\n",
        "    plt.show()"
      ],
      "metadata": {
        "id": "OmDaIEO4wBRD"
      },
      "execution_count": 33,
      "outputs": []
    },
    {
      "cell_type": "code",
      "source": [
        "plot_trenning_results('model', history)"
      ],
      "metadata": {
        "colab": {
          "base_uri": "https://localhost:8080/",
          "height": 573
        },
        "id": "C1dSFjfhzpLI",
        "outputId": "6d932e93-bb95-43ae-8e96-230419198ea0"
      },
      "execution_count": 34,
      "outputs": [
        {
          "output_type": "display_data",
          "data": {
            "text/plain": [
              "<Figure size 432x288 with 1 Axes>"
            ],
            "image/png": "[encoded data removed]"
          },
          "metadata": {
            "needs_background": "light"
          }
        },
        {
          "output_type": "display_data",
          "data": {
            "text/plain": [
              "<Figure size 432x288 with 1 Axes>"
            ],
            "image/png": "[encoded data removed]"
          },
          "metadata": {
            "needs_background": "light"
          }
        }
      ]
    },
    {
      "cell_type": "code",
      "source": [
        "plot_trenning_results('model_1', history_1)"
      ],
      "metadata": {
        "colab": {
          "base_uri": "https://localhost:8080/",
          "height": 573
        },
        "id": "qbkY2LEF0K9I",
        "outputId": "8ae62233-d58b-412b-c214-5f30afab2dde"
      },
      "execution_count": 35,
      "outputs": [
        {
          "output_type": "display_data",
          "data": {
            "text/plain": [
              "<Figure size 432x288 with 1 Axes>"
            ],
            "image/png": "[encoded data removed]"
          },
          "metadata": {
            "needs_background": "light"
          }
        },
        {
          "output_type": "display_data",
          "data": {
            "text/plain": [
              "<Figure size 432x288 with 1 Axes>"
            ],
            "image/png": "[encoded data removed]"
          },
          "metadata": {
            "needs_background": "light"
          }
        }
      ]
    },
    {
      "cell_type": "markdown",
      "source": [
        "Powyżej możemy dokładnie zobaczyć jak przebiegał trening obu modeli."
      ],
      "metadata": {
        "id": "Qnb6HLxT0Xtp"
      }
    },
    {
      "cell_type": "code",
      "source": [
        "print('model:')\n",
        "model.evaluate(x_test, np.array(y_test))"
      ],
      "metadata": {
        "colab": {
          "base_uri": "https://localhost:8080/"
        },
        "id": "qajKtpr7vK9y",
        "outputId": "e9fbed97-c971-45ab-df28-9ac20da6a99b"
      },
      "execution_count": 36,
      "outputs": [
        {
          "output_type": "stream",
          "name": "stdout",
          "text": [
            "model:\n",
            "259/259 [==============================] - 2s 6ms/step - loss: 0.0138 - accuracy: 0.9973\n"
          ]
        },
        {
          "output_type": "execute_result",
          "data": {
            "text/plain": [
              "[0.013766448013484478, 0.9973046183586121]"
            ]
          },
          "metadata": {},
          "execution_count": 36
        }
      ]
    },
    {
      "cell_type": "code",
      "source": [
        "print('model_1:')\n",
        "model_1.evaluate(x_test, np.array(y_test))"
      ],
      "metadata": {
        "colab": {
          "base_uri": "https://localhost:8080/"
        },
        "id": "DKx774wt0nsI",
        "outputId": "0141e3cd-f03f-49ef-caf1-72edccb7a54d"
      },
      "execution_count": 37,
      "outputs": [
        {
          "output_type": "stream",
          "name": "stdout",
          "text": [
            "model_1:\n",
            "259/259 [==============================] - 4s 14ms/step - loss: 0.0127 - accuracy: 0.9975\n"
          ]
        },
        {
          "output_type": "execute_result",
          "data": {
            "text/plain": [
              "[0.012656353414058685, 0.9975488185882568]"
            ]
          },
          "metadata": {},
          "execution_count": 37
        }
      ]
    },
    {
      "cell_type": "markdown",
      "source": [
        "Po ewaluacji `model_1` osiąganł lepszy wynik. Accuracy jest większe, a funkcja straty mniejsza."
      ],
      "metadata": {
        "id": "aQ8ba6rI0sVw"
      }
    },
    {
      "cell_type": "code",
      "source": [
        "preds=model.predict(x_test)\n",
        "preds_1=model_1.predict(x_test)"
      ],
      "metadata": {
        "colab": {
          "base_uri": "https://localhost:8080/"
        },
        "id": "17VoKJrmwG85",
        "outputId": "e57d8052-00a2-4d2c-bd1a-a8a767c56b26"
      },
      "execution_count": 38,
      "outputs": [
        {
          "output_type": "stream",
          "name": "stdout",
          "text": [
            "259/259 [==============================] - 2s 5ms/step\n",
            "259/259 [==============================] - 3s 12ms/step\n"
          ]
        }
      ]
    },
    {
      "cell_type": "markdown",
      "source": [
        "Funkcja `evaluate_predictions` pomoże nam zamienić nasze predykcje na zbiory które będziemy mogli wykorzystać do stworzenia raportu z ostatecznymi wynikami."
      ],
      "metadata": {
        "id": "1JsFVIlR1c2I"
      }
    },
    {
      "cell_type": "code",
      "source": [
        "def evaluate_predictions(test_data, preds, actual_preds):    \n",
        "    print(\"Shape of Test Data Array\", test_data.shape)\n",
        "    y_actual = np.argmax(np.array(actual_preds), axis=2)\n",
        "    y_pred = np.argmax(preds, axis=2)\n",
        "    num_test_data = test_data.shape[0]\n",
        "    print(\"Number of Test Data Points \", num_test_data)\n",
        "    data = pd.DataFrame()\n",
        "    df_list = []\n",
        "    for i in range(num_test_data):\n",
        "        test_str = list(test_data[i])\n",
        "        df = pd.DataFrame()\n",
        "        df[\"test_tokens\"] = test_str\n",
        "        df[\"tokens\"] = df[\"test_tokens\"].apply(\n",
        "            lambda x: tokeniser.index_word[x] if x != 0 else \"<PAD>\"\n",
        "        )\n",
        "        df[\"actual_target_index\"] = list(y_actual[i])\n",
        "        df[\"pred_target_index\"] = list(y_pred[i])\n",
        "        df[\"actual_target_tag\"] = df[\"actual_target_index\"].apply(\n",
        "            lambda x: reverse_tag_map[x]\n",
        "        )\n",
        "        df[\"pred_target_tag\"] = df[\"pred_target_index\"].apply(\n",
        "            lambda x: reverse_tag_map[x]\n",
        "        )\n",
        "        df[\"id\"] = i + 1\n",
        "        df_list.append(df)\n",
        "    data = pd.concat(df_list)\n",
        "    pred_data = data[data[\"tokens\"] != \"<PAD>\"]\n",
        "    accuracy = (\n",
        "        pred_data[pred_data[\"actual_target_tag\"] == pred_data[\"pred_target_tag\"]].shape[\n",
        "            0\n",
        "        ]\n",
        "        / pred_data.shape[0]\n",
        "    )\n",
        "\n",
        "    return pred_data, accuracy"
      ],
      "metadata": {
        "id": "nkUZigK3vwc6"
      },
      "execution_count": 39,
      "outputs": []
    },
    {
      "cell_type": "code",
      "source": [
        "pred_data ,accuracy = evaluate_predictions(x_test,preds,y_test)\n",
        "pred_data_1 ,accuracy_1 = evaluate_predictions(x_test,preds_1,y_test)"
      ],
      "metadata": {
        "colab": {
          "base_uri": "https://localhost:8080/"
        },
        "id": "brJDh73VL6KD",
        "outputId": "7beb2d7a-4444-4114-9ef7-882f1826b1fb"
      },
      "execution_count": 40,
      "outputs": [
        {
          "output_type": "stream",
          "name": "stdout",
          "text": [
            "Shape of Test Data Array (8288, 165)\n",
            "Number of Test Data Points  8288\n",
            "Shape of Test Data Array (8288, 165)\n",
            "Number of Test Data Points  8288\n"
          ]
        }
      ]
    },
    {
      "cell_type": "markdown",
      "source": [
        "Stworzymy drugi model\n",
        "\n",
        "Tym razem podejdziemy bardzo kreatywnie i sprawdzimy czy więcej warstw w naszym modelu pomoże w osiągnięciu lepszych wyników.\n",
        "\n",
        "Dołożymy dodatkową warstwę `LSTM`\n",
        "\n",
        "Wiemy już że zwiększenie jednostek `units` a także dodanie `dropout` bardzo pomaga. "
      ],
      "metadata": {
        "id": "LbPY23Ip9HMi"
      }
    },
    {
      "cell_type": "markdown",
      "source": [
        "## model_2"
      ],
      "metadata": {
        "id": "-UYK2eoOBosl"
      }
    },
    {
      "cell_type": "code",
      "source": [
        "embedding_dim = 165\n",
        "vocab_size=len(tokeniser.word_index)+1\n",
        "lstm_units=500\n",
        "max_len=165\n",
        "\n",
        "model_2 = tf.keras.models.Sequential([\n",
        "    tf.keras.layers.Embedding(vocab_size+1, embedding_dim, input_length=max_len),\n",
        "    tf.keras.layers.Bidirectional(tf.keras.layers.LSTM(units=lstm_units, activation='tanh', return_sequences=True, dropout=0.25)),    \n",
        "    tf.keras.layers.Bidirectional(tf.keras.layers.LSTM(units=lstm_units, activation='tanh', return_sequences=True, dropout=0.25)),\n",
        "    tf.keras.layers.TimeDistributed(tf.keras.layers.Dense(num_tags, activation='softmax'))\n",
        "])\n",
        "\n",
        "model_2.compile(loss='categorical_crossentropy',\n",
        "              optimizer='adam',\n",
        "              metrics=['accuracy'])\n",
        "\n",
        "history_2 = model_2.fit(x_train,np.array(y_train),validation_data=(x_val,np.array(y_val)),batch_size = 32,epochs = 4)"
      ],
      "metadata": {
        "colab": {
          "base_uri": "https://localhost:8080/"
        },
        "id": "PjfwTAayeYFJ",
        "outputId": "efe001ad-4530-491f-9258-a59cd03708e4"
      },
      "execution_count": 62,
      "outputs": [
        {
          "output_type": "stream",
          "name": "stdout",
          "text": [
            "Epoch 1/4\n",
            "648/648 [==============================] - 114s 168ms/step - loss: 0.0333 - accuracy: 0.9937 - val_loss: 0.0162 - val_accuracy: 0.9959\n",
            "Epoch 2/4\n",
            "648/648 [==============================] - 107s 166ms/step - loss: 0.0120 - accuracy: 0.9967 - val_loss: 0.0139 - val_accuracy: 0.9965\n",
            "Epoch 3/4\n",
            "648/648 [==============================] - 107s 165ms/step - loss: 0.0082 - accuracy: 0.9976 - val_loss: 0.0130 - val_accuracy: 0.9969\n",
            "Epoch 4/4\n",
            "648/648 [==============================] - 107s 165ms/step - loss: 0.0055 - accuracy: 0.9984 - val_loss: 0.0135 - val_accuracy: 0.9968\n"
          ]
        }
      ]
    },
    {
      "cell_type": "code",
      "source": [
        "model_2.evaluate(x_test, np.array(y_test))"
      ],
      "metadata": {
        "colab": {
          "base_uri": "https://localhost:8080/"
        },
        "id": "S3dkEWHXg8Ud",
        "outputId": "4ed1b95d-dc9e-482a-a06c-2fbe8832b54a"
      },
      "execution_count": 64,
      "outputs": [
        {
          "output_type": "stream",
          "name": "stdout",
          "text": [
            "259/259 [==============================] - 13s 50ms/step - loss: 0.0136 - accuracy: 0.9968\n"
          ]
        },
        {
          "output_type": "execute_result",
          "data": {
            "text/plain": [
              "[0.01356450468301773, 0.9968336820602417]"
            ]
          },
          "metadata": {},
          "execution_count": 64
        }
      ]
    },
    {
      "cell_type": "code",
      "source": [
        "model_2.summary()"
      ],
      "metadata": {
        "colab": {
          "base_uri": "https://localhost:8080/"
        },
        "id": "ly43smaXf8Mv",
        "outputId": "9042f2fb-bee7-4ee8-84ca-c5623b0c408a"
      },
      "execution_count": 65,
      "outputs": [
        {
          "output_type": "stream",
          "name": "stdout",
          "text": [
            "Model: \"sequential_2\"\n",
            "_________________________________________________________________\n",
            " Layer (type)                Output Shape              Param #   \n",
            "=================================================================\n",
            " embedding_6 (Embedding)     (None, 165, 165)          8420940   \n",
            "                                                                 \n",
            " bidirectional_4 (Bidirectio  (None, 165, 1000)        2664000   \n",
            " nal)                                                            \n",
            "                                                                 \n",
            " bidirectional_5 (Bidirectio  (None, 165, 1000)        6004000   \n",
            " nal)                                                            \n",
            "                                                                 \n",
            " time_distributed_5 (TimeDis  (None, 165, 15)          15015     \n",
            " tributed)                                                       \n",
            "                                                                 \n",
            "=================================================================\n",
            "Total params: 17,103,955\n",
            "Trainable params: 17,103,955\n",
            "Non-trainable params: 0\n",
            "_________________________________________________________________\n"
          ]
        }
      ]
    },
    {
      "cell_type": "code",
      "source": [
        "preds_2=model_2.predict(x_test)\n",
        "\n",
        "pred_data_2 ,accuracy_2 =evaluate_predictions(x_test,preds_2,y_test)"
      ],
      "metadata": {
        "colab": {
          "base_uri": "https://localhost:8080/"
        },
        "id": "Uz3IROkHHgEf",
        "outputId": "ba35f97d-4e4a-473d-e159-e8e3cb04c4f9"
      },
      "execution_count": 71,
      "outputs": [
        {
          "output_type": "stream",
          "name": "stdout",
          "text": [
            "259/259 [==============================] - 13s 49ms/step\n",
            "Shape of Test Data Array (8288, 165)\n",
            "Number of Test Data Points  8288\n"
          ]
        }
      ]
    },
    {
      "cell_type": "code",
      "source": [
        "plot_trenning_results('model_2', history_2)"
      ],
      "metadata": {
        "colab": {
          "base_uri": "https://localhost:8080/",
          "height": 573
        },
        "id": "lQzBiFoSCsCL",
        "outputId": "3a3d08b7-f436-4b5d-bc83-cb2273245f38"
      },
      "execution_count": 66,
      "outputs": [
        {
          "output_type": "display_data",
          "data": {
            "text/plain": [
              "<Figure size 432x288 with 1 Axes>"
            ],
            "image/png": "[encoded data removed]"
          },
          "metadata": {
            "needs_background": "light"
          }
        },
        {
          "output_type": "display_data",
          "data": {
            "text/plain": [
              "<Figure size 432x288 with 1 Axes>"
            ],
            "image/png": "[encoded data removed]"
          },
          "metadata": {
            "needs_background": "light"
          }
        }
      ]
    },
    {
      "cell_type": "markdown",
      "source": [
        "Trening przebiagł znacznie słabiej niż we wcześnijszych modelach. Musieliśmy go już zakończyć w 4 epoce, ponieważ accuracy na zbiorze walidacyjnym bardzo szybko zaczęło spadać a loss rosnąć. Możemy już stwierdzić, że dołożenie kolejnych warstw nie jest dobrym pomysłem."
      ],
      "metadata": {
        "id": "yhErDPYGHiFH"
      }
    },
    {
      "cell_type": "markdown",
      "source": [
        "# Wyniki wszystkich modeli - raport klasyfikacji\n",
        "\n",
        "Na końcu sprawdźmy dokładnie co udało się nam osiągnąć implementując każdy model. Wiemy już jak przebiagał trening każdego z modeli.\n",
        "\n",
        "Po ewaluacji każdy z modeli osiąganł:\n",
        "\n",
        "* `model` : loss `0.0138` - accuracy: `0.9973`\n",
        "* `model_1` : loss `0.0127` - accuracy: `0.9975`\n",
        "* `model_2` : loss `0.0136` - accuracy: `0.9968`\n",
        "\n",
        "Zobaczymy raport klasyfikacji dla każdego modelu:"
      ],
      "metadata": {
        "id": "uEt_-q9dFr95"
      }
    },
    {
      "cell_type": "code",
      "source": [
        "y_pred = pred_data['pred_target_tag'].tolist()\n",
        "y_actual = pred_data['actual_target_tag'].tolist()\n",
        "\n",
        "print('classification_report for: model')\n",
        "print(classification_report(y_actual,y_pred))"
      ],
      "metadata": {
        "colab": {
          "base_uri": "https://localhost:8080/"
        },
        "id": "6K4rOcR8FN4x",
        "outputId": "e36897af-9405-41f4-a542-8ef1b5d17ffe"
      },
      "execution_count": 68,
      "outputs": [
        {
          "output_type": "stream",
          "name": "stdout",
          "text": [
            "classification_report for: model\n",
            "              precision    recall  f1-score   support\n",
            "\n",
            "           O       0.97      0.99      0.98     75548\n",
            "     addName       0.53      0.16      0.25        97\n",
            "        bloc       0.00      0.00      0.00        16\n",
            "     country       0.90      0.83      0.86       908\n",
            "        date       0.68      0.51      0.59       402\n",
            "    district       0.58      0.19      0.29        37\n",
            "    forename       0.83      0.75      0.79      1437\n",
            "    geogName       0.57      0.47      0.52       447\n",
            "     orgName       0.53      0.51      0.52      1115\n",
            "    persName       0.76      0.54      0.64       101\n",
            "   placeName       1.00      0.24      0.39        29\n",
            "      region       0.08      0.35      0.12        49\n",
            "  settlement       0.87      0.59      0.70       801\n",
            "     surname       0.84      0.64      0.73      1462\n",
            "        time       1.00      0.05      0.09        44\n",
            "\n",
            "    accuracy                           0.96     82493\n",
            "   macro avg       0.68      0.45      0.50     82493\n",
            "weighted avg       0.95      0.96      0.95     82493\n",
            "\n"
          ]
        }
      ]
    },
    {
      "cell_type": "code",
      "source": [
        "y_pred_1 = pred_data_1['pred_target_tag'].tolist()\n",
        "y_actual_1 = pred_data_1['actual_target_tag'].tolist()\n",
        "\n",
        "print('classification_report for: model_1')\n",
        "print(classification_report(y_actual_1,y_pred_1))"
      ],
      "metadata": {
        "colab": {
          "base_uri": "https://localhost:8080/"
        },
        "id": "5kRBosYqFP8g",
        "outputId": "35a90d34-dcf5-435e-b8dd-6ac59c0c8e6e"
      },
      "execution_count": 69,
      "outputs": [
        {
          "output_type": "stream",
          "name": "stdout",
          "text": [
            "classification_report for: model_1\n",
            "              precision    recall  f1-score   support\n",
            "\n",
            "           O       0.97      0.99      0.98     75548\n",
            "     addName       0.50      0.21      0.29        97\n",
            "        bloc       0.33      0.12      0.18        16\n",
            "     country       0.94      0.83      0.88       908\n",
            "        date       0.67      0.58      0.62       402\n",
            "    district       0.50      0.16      0.24        37\n",
            "    forename       0.95      0.74      0.84      1437\n",
            "    geogName       0.39      0.56      0.46       447\n",
            "     orgName       0.65      0.49      0.56      1115\n",
            "    persName       0.72      0.63      0.67       101\n",
            "   placeName       0.65      0.52      0.58        29\n",
            "      region       0.50      0.29      0.36        49\n",
            "  settlement       0.92      0.57      0.70       801\n",
            "     surname       0.82      0.68      0.75      1462\n",
            "        time       0.61      0.39      0.47        44\n",
            "\n",
            "    accuracy                           0.96     82493\n",
            "   macro avg       0.68      0.52      0.57     82493\n",
            "weighted avg       0.96      0.96      0.96     82493\n",
            "\n"
          ]
        }
      ]
    },
    {
      "cell_type": "code",
      "source": [
        "y_pred_2 = pred_data_2['pred_target_tag'].tolist()\n",
        "y_actual_2 = pred_data_2['actual_target_tag'].tolist()\n",
        "\n",
        "print('classification_report for: model_2')\n",
        "print(classification_report(y_actual_2,y_pred_2))"
      ],
      "metadata": {
        "colab": {
          "base_uri": "https://localhost:8080/"
        },
        "id": "aBBw3g1geo7h",
        "outputId": "bbc7acec-fe3c-42df-a339-cbc7d893952b"
      },
      "execution_count": 72,
      "outputs": [
        {
          "output_type": "stream",
          "name": "stdout",
          "text": [
            "classification_report for: model_2\n",
            "              precision    recall  f1-score   support\n",
            "\n",
            "           O       0.98      0.98      0.98     75548\n",
            "     addName       0.00      0.00      0.00        97\n",
            "        bloc       0.00      0.00      0.00        16\n",
            "     country       0.90      0.84      0.87       908\n",
            "        date       0.22      0.63      0.32       402\n",
            "    district       0.00      0.00      0.00        37\n",
            "    forename       0.92      0.73      0.81      1437\n",
            "    geogName       0.29      0.38      0.33       447\n",
            "     orgName       0.48      0.52      0.50      1115\n",
            "    persName       0.88      0.07      0.13       101\n",
            "   placeName       0.00      0.00      0.00        29\n",
            "      region       0.00      0.00      0.00        49\n",
            "  settlement       0.69      0.55      0.61       801\n",
            "     surname       0.86      0.54      0.66      1462\n",
            "        time       0.00      0.00      0.00        44\n",
            "\n",
            "    accuracy                           0.95     82493\n",
            "   macro avg       0.41      0.35      0.35     82493\n",
            "weighted avg       0.95      0.95      0.95     82493\n",
            "\n"
          ]
        }
      ]
    },
    {
      "cell_type": "markdown",
      "source": [
        "Ostatecznie raport też potwierdza, że `model_1` pordzaił sobie lepiej. Z racji 15 klas ciężko go dokładnie porównać, ale najlepszym odnisieniem będzie wynik w miarze `f1` macro avg. \n",
        "\n",
        "Dla każdego z modeli wygląda to następująco:\n",
        "\n",
        " * `model` z wynikiem `0.50`\n",
        " * `model_1` z wynikiem `0.57`\n",
        " * `model_1` z wynikiem `0.35`\n",
        "\n",
        "A więc najlepiej wygląda `model_1`\n",
        "\n",
        "Zobaczymy jeszcze jak poradził sobie `model_1`. Najlepiej poszło mu w predykcji klasy `forname`, najgorzej w klasie `bloc`. Zobaczmy jak wyglądała predykcja w klasie `bloc`."
      ],
      "metadata": {
        "id": "d6xvuuUZIXze"
      }
    },
    {
      "cell_type": "code",
      "source": [
        "pred_data_1[(pred_data_1['actual_target_tag']==\"bloc\")].head(10)"
      ],
      "metadata": {
        "colab": {
          "base_uri": "https://localhost:8080/",
          "height": 363
        },
        "id": "_ehGSJUbJNs9",
        "outputId": "587d3984-b6c1-4604-8256-433af8b29c20"
      },
      "execution_count": 73,
      "outputs": [
        {
          "output_type": "execute_result",
          "data": {
            "text/plain": [
              "    test_tokens      tokens  actual_target_index  pred_target_index  \\\n",
              "8           546        unia                   11                  2   \n",
              "2           336      Europa                   11                  3   \n",
              "6           414  europejski                   11                  3   \n",
              "11          414  europejski                   11                  3   \n",
              "13         1484        NATO                   11                  2   \n",
              "15          336      Europa                   11                  3   \n",
              "13         6288      Układu                   11                 11   \n",
              "27         6288      Układu                   11                 11   \n",
              "14          546        unia                   11                  2   \n",
              "15          414  europejski                   11                  3   \n",
              "\n",
              "   actual_target_tag pred_target_tag    id  \n",
              "8               bloc         orgName   285  \n",
              "2               bloc        geogName  2097  \n",
              "6               bloc        geogName  3389  \n",
              "11              bloc        geogName  4093  \n",
              "13              bloc         orgName  4093  \n",
              "15              bloc        geogName  4742  \n",
              "13              bloc            bloc  5455  \n",
              "27              bloc            bloc  5455  \n",
              "14              bloc         orgName  5502  \n",
              "15              bloc        geogName  5502  "
            ],
            "text/html": [
              "\n",
              "  <div id=\"df-d7ecc12f-69e2-4065-b4e2-c4015aae8ee8\">\n",
              "    <div class=\"colab-df-container\">\n",
              "      <div>\n",
              "<style scoped>\n",
              "    .dataframe tbody tr th:only-of-type {\n",
              "        vertical-align: middle;\n",
              "    }\n",
              "\n",
              "    .dataframe tbody tr th {\n",
              "        vertical-align: top;\n",
              "    }\n",
              "\n",
              "    .dataframe thead th {\n",
              "        text-align: right;\n",
              "    }\n",
              "</style>\n",
              "<table border=\"1\" class=\"dataframe\">\n",
              "  <thead>\n",
              "    <tr style=\"text-align: right;\">\n",
              "      <th></th>\n",
              "      <th>test_tokens</th>\n",
              "      <th>tokens</th>\n",
              "      <th>actual_target_index</th>\n",
              "      <th>pred_target_index</th>\n",
              "      <th>actual_target_tag</th>\n",
              "      <th>pred_target_tag</th>\n",
              "      <th>id</th>\n",
              "    </tr>\n",
              "  </thead>\n",
              "  <tbody>\n",
              "    <tr>\n",
              "      <th>8</th>\n",
              "      <td>546</td>\n",
              "      <td>unia</td>\n",
              "      <td>11</td>\n",
              "      <td>2</td>\n",
              "      <td>bloc</td>\n",
              "      <td>orgName</td>\n",
              "      <td>285</td>\n",
              "    </tr>\n",
              "    <tr>\n",
              "      <th>2</th>\n",
              "      <td>336</td>\n",
              "      <td>Europa</td>\n",
              "      <td>11</td>\n",
              "      <td>3</td>\n",
              "      <td>bloc</td>\n",
              "      <td>geogName</td>\n",
              "      <td>2097</td>\n",
              "    </tr>\n",
              "    <tr>\n",
              "      <th>6</th>\n",
              "      <td>414</td>\n",
              "      <td>europejski</td>\n",
              "      <td>11</td>\n",
              "      <td>3</td>\n",
              "      <td>bloc</td>\n",
              "      <td>geogName</td>\n",
              "      <td>3389</td>\n",
              "    </tr>\n",
              "    <tr>\n",
              "      <th>11</th>\n",
              "      <td>414</td>\n",
              "      <td>europejski</td>\n",
              "      <td>11</td>\n",
              "      <td>3</td>\n",
              "      <td>bloc</td>\n",
              "      <td>geogName</td>\n",
              "      <td>4093</td>\n",
              "    </tr>\n",
              "    <tr>\n",
              "      <th>13</th>\n",
              "      <td>1484</td>\n",
              "      <td>NATO</td>\n",
              "      <td>11</td>\n",
              "      <td>2</td>\n",
              "      <td>bloc</td>\n",
              "      <td>orgName</td>\n",
              "      <td>4093</td>\n",
              "    </tr>\n",
              "    <tr>\n",
              "      <th>15</th>\n",
              "      <td>336</td>\n",
              "      <td>Europa</td>\n",
              "      <td>11</td>\n",
              "      <td>3</td>\n",
              "      <td>bloc</td>\n",
              "      <td>geogName</td>\n",
              "      <td>4742</td>\n",
              "    </tr>\n",
              "    <tr>\n",
              "      <th>13</th>\n",
              "      <td>6288</td>\n",
              "      <td>Układu</td>\n",
              "      <td>11</td>\n",
              "      <td>11</td>\n",
              "      <td>bloc</td>\n",
              "      <td>bloc</td>\n",
              "      <td>5455</td>\n",
              "    </tr>\n",
              "    <tr>\n",
              "      <th>27</th>\n",
              "      <td>6288</td>\n",
              "      <td>Układu</td>\n",
              "      <td>11</td>\n",
              "      <td>11</td>\n",
              "      <td>bloc</td>\n",
              "      <td>bloc</td>\n",
              "      <td>5455</td>\n",
              "    </tr>\n",
              "    <tr>\n",
              "      <th>14</th>\n",
              "      <td>546</td>\n",
              "      <td>unia</td>\n",
              "      <td>11</td>\n",
              "      <td>2</td>\n",
              "      <td>bloc</td>\n",
              "      <td>orgName</td>\n",
              "      <td>5502</td>\n",
              "    </tr>\n",
              "    <tr>\n",
              "      <th>15</th>\n",
              "      <td>414</td>\n",
              "      <td>europejski</td>\n",
              "      <td>11</td>\n",
              "      <td>3</td>\n",
              "      <td>bloc</td>\n",
              "      <td>geogName</td>\n",
              "      <td>5502</td>\n",
              "    </tr>\n",
              "  </tbody>\n",
              "</table>\n",
              "</div>\n",
              "      <button class=\"colab-df-convert\" onclick=\"convertToInteractive('df-d7ecc12f-69e2-4065-b4e2-c4015aae8ee8')\"\n",
              "              title=\"Convert this dataframe to an interactive table.\"\n",
              "              style=\"display:none;\">\n",
              "        \n",
              "  <svg xmlns=\"http://www.w3.org/2000/svg\" height=\"24px\"viewBox=\"0 0 24 24\"\n",
              "       width=\"24px\">\n",
              "    <path d=\"M0 0h24v24H0V0z\" fill=\"none\"/>\n",
              "    <path d=\"M18.56 5.44l.94 2.06.94-2.06 2.06-.94-2.06-.94-.94-2.06-.94 2.06-2.06.94zm-11 1L8.5 8.5l.94-2.06 2.06-.94-2.06-.94L8.5 2.5l-.94 2.06-2.06.94zm10 10l.94 2.06.94-2.06 2.06-.94-2.06-.94-.94-2.06-.94 2.06-2.06.94z\"/><path d=\"M17.41 7.96l-1.37-1.37c-.4-.4-.92-.59-1.43-.59-.52 0-1.04.2-1.43.59L10.3 9.45l-7.72 7.72c-.78.78-.78 2.05 0 2.83L4 21.41c.39.39.9.59 1.41.59.51 0 1.02-.2 1.41-.59l7.78-7.78 2.81-2.81c.8-.78.8-2.07 0-2.86zM5.41 20L4 18.59l7.72-7.72 1.47 1.35L5.41 20z\"/>\n",
              "  </svg>\n",
              "      </button>\n",
              "      \n",
              "  <style>\n",
              "    .colab-df-container {\n",
              "      display:flex;\n",
              "      flex-wrap:wrap;\n",
              "      gap: 12px;\n",
              "    }\n",
              "\n",
              "    .colab-df-convert {\n",
              "      background-color: #E8F0FE;\n",
              "      border: none;\n",
              "      border-radius: 50%;\n",
              "      cursor: pointer;\n",
              "      display: none;\n",
              "      fill: #1967D2;\n",
              "      height: 32px;\n",
              "      padding: 0 0 0 0;\n",
              "      width: 32px;\n",
              "    }\n",
              "\n",
              "    .colab-df-convert:hover {\n",
              "      background-color: #E2EBFA;\n",
              "      box-shadow: 0px 1px 2px rgba(60, 64, 67, 0.3), 0px 1px 3px 1px rgba(60, 64, 67, 0.15);\n",
              "      fill: #174EA6;\n",
              "    }\n",
              "\n",
              "    [theme=dark] .colab-df-convert {\n",
              "      background-color: #3B4455;\n",
              "      fill: #D2E3FC;\n",
              "    }\n",
              "\n",
              "    [theme=dark] .colab-df-convert:hover {\n",
              "      background-color: #434B5C;\n",
              "      box-shadow: 0px 1px 3px 1px rgba(0, 0, 0, 0.15);\n",
              "      filter: drop-shadow(0px 1px 2px rgba(0, 0, 0, 0.3));\n",
              "      fill: #FFFFFF;\n",
              "    }\n",
              "  </style>\n",
              "\n",
              "      <script>\n",
              "        const buttonEl =\n",
              "          document.querySelector('#df-d7ecc12f-69e2-4065-b4e2-c4015aae8ee8 button.colab-df-convert');\n",
              "        buttonEl.style.display =\n",
              "          google.colab.kernel.accessAllowed ? 'block' : 'none';\n",
              "\n",
              "        async function convertToInteractive(key) {\n",
              "          const element = document.querySelector('#df-d7ecc12f-69e2-4065-b4e2-c4015aae8ee8');\n",
              "          const dataTable =\n",
              "            await google.colab.kernel.invokeFunction('convertToInteractive',\n",
              "                                                     [key], {});\n",
              "          if (!dataTable) return;\n",
              "\n",
              "          const docLinkHtml = 'Like what you see? Visit the ' +\n",
              "            '<a target=\"_blank\" href=https://colab.research.google.com/notebooks/data_table.ipynb>data table notebook</a>'\n",
              "            + ' to learn more about interactive tables.';\n",
              "          element.innerHTML = '';\n",
              "          dataTable['output_type'] = 'display_data';\n",
              "          await google.colab.output.renderOutput(dataTable, element);\n",
              "          const docLink = document.createElement('div');\n",
              "          docLink.innerHTML = docLinkHtml;\n",
              "          element.appendChild(docLink);\n",
              "        }\n",
              "      </script>\n",
              "    </div>\n",
              "  </div>\n",
              "  "
            ]
          },
          "metadata": {},
          "execution_count": 73
        }
      ]
    }
  ]
}